{
 "cells": [
  {
   "cell_type": "markdown",
   "metadata": {},
   "source": [
    "### Boolean expressions"
   ]
  },
  {
   "cell_type": "code",
   "execution_count": 1,
   "metadata": {},
   "outputs": [
    {
     "data": {
      "text/plain": [
       "False"
      ]
     },
     "execution_count": 1,
     "metadata": {},
     "output_type": "execute_result"
    }
   ],
   "source": [
    "water = True\n",
    "lemon = False\n",
    "water and lemon"
   ]
  },
  {
   "cell_type": "code",
   "execution_count": 2,
   "metadata": {},
   "outputs": [
    {
     "name": "stdout",
     "output_type": "stream",
     "text": [
      "True and False\n"
     ]
    }
   ],
   "source": [
    "print(f\"{water} and {lemon}\")"
   ]
  },
  {
   "cell_type": "code",
   "execution_count": 3,
   "metadata": {},
   "outputs": [
    {
     "name": "stdout",
     "output_type": "stream",
     "text": [
      "True and False\n"
     ]
    }
   ],
   "source": [
    "print(water,\"and\",lemon)"
   ]
  },
  {
   "cell_type": "code",
   "execution_count": 4,
   "metadata": {},
   "outputs": [
    {
     "name": "stdout",
     "output_type": "stream",
     "text": [
      "False\n"
     ]
    }
   ],
   "source": [
    "print(f\"{water and lemon}\")"
   ]
  },
  {
   "cell_type": "code",
   "execution_count": 5,
   "metadata": {},
   "outputs": [
    {
     "name": "stdout",
     "output_type": "stream",
     "text": [
      "True\n"
     ]
    }
   ],
   "source": [
    "print(f\"{water or lemon}\")"
   ]
  },
  {
   "cell_type": "code",
   "execution_count": 6,
   "metadata": {},
   "outputs": [
    {
     "name": "stdout",
     "output_type": "stream",
     "text": [
      "True\n"
     ]
    }
   ],
   "source": [
    "print(f\"{water and not lemon}\")"
   ]
  },
  {
   "cell_type": "code",
   "execution_count": 7,
   "metadata": {},
   "outputs": [
    {
     "name": "stdout",
     "output_type": "stream",
     "text": [
      "TrueTrueTrueTrueTrue\n"
     ]
    }
   ],
   "source": [
    "print(f\"{water}\" * 5)"
   ]
  },
  {
   "cell_type": "code",
   "execution_count": null,
   "metadata": {},
   "outputs": [],
   "source": [
    "# review - comparison expression"
   ]
  },
  {
   "cell_type": "code",
   "execution_count": 8,
   "metadata": {},
   "outputs": [
    {
     "data": {
      "text/plain": [
       "True"
      ]
     },
     "execution_count": 8,
     "metadata": {},
     "output_type": "execute_result"
    }
   ],
   "source": [
    "age = 17\n",
    "teenage = 18\n",
    "age < teenage"
   ]
  },
  {
   "cell_type": "code",
   "execution_count": 9,
   "metadata": {},
   "outputs": [
    {
     "data": {
      "text/plain": [
       "False"
      ]
     },
     "execution_count": 9,
     "metadata": {},
     "output_type": "execute_result"
    }
   ],
   "source": [
    "senior = 65\n",
    "age >= 65"
   ]
  },
  {
   "cell_type": "code",
   "execution_count": 10,
   "metadata": {},
   "outputs": [
    {
     "data": {
      "text/plain": [
       "False"
      ]
     },
     "execution_count": 10,
     "metadata": {},
     "output_type": "execute_result"
    }
   ],
   "source": [
    "(age < teenage) and (age >= 65)"
   ]
  },
  {
   "cell_type": "code",
   "execution_count": 11,
   "metadata": {},
   "outputs": [
    {
     "data": {
      "text/plain": [
       "True"
      ]
     },
     "execution_count": 11,
     "metadata": {},
     "output_type": "execute_result"
    }
   ],
   "source": [
    "(age < teenage) and (age<=65)"
   ]
  },
  {
   "cell_type": "markdown",
   "metadata": {},
   "source": [
    "### Selection statement (conditional statement)"
   ]
  },
  {
   "cell_type": "code",
   "execution_count": 12,
   "metadata": {},
   "outputs": [
    {
     "name": "stdout",
     "output_type": "stream",
     "text": [
      "Under aged\n"
     ]
    }
   ],
   "source": [
    "if (age < teenage) :\n",
    "    print(\"Under aged\")"
   ]
  },
  {
   "cell_type": "code",
   "execution_count": 13,
   "metadata": {},
   "outputs": [
    {
     "ename": "NameError",
     "evalue": "name 'true' is not defined",
     "output_type": "error",
     "traceback": [
      "\u001b[1;31m---------------------------------------------------------------------------\u001b[0m",
      "\u001b[1;31mNameError\u001b[0m                                 Traceback (most recent call last)",
      "Cell \u001b[1;32mIn[13], line 1\u001b[0m\n\u001b[1;32m----> 1\u001b[0m registered \u001b[38;5;241m=\u001b[39m \u001b[43mtrue\u001b[49m     \u001b[38;5;66;03m# Something wrong here!\u001b[39;00m\n\u001b[0;32m      2\u001b[0m \u001b[38;5;28;01mif\u001b[39;00m ((age \u001b[38;5;241m>\u001b[39m\u001b[38;5;241m=\u001b[39m teenage) \u001b[38;5;129;01mand\u001b[39;00m registered) :\n\u001b[0;32m      3\u001b[0m     \u001b[38;5;28mprint\u001b[39m(\u001b[38;5;124m\"\u001b[39m\u001b[38;5;124meligible to vote\u001b[39m\u001b[38;5;124m\"\u001b[39m)\n",
      "\u001b[1;31mNameError\u001b[0m: name 'true' is not defined"
     ]
    }
   ],
   "source": [
    "registered = true     # Something wrong here!\n",
    "if ((age >= teenage) and registered) :\n",
    "    print(\"eligible to vote\")"
   ]
  },
  {
   "cell_type": "code",
   "execution_count": 16,
   "metadata": {},
   "outputs": [],
   "source": [
    "registered = True\n",
    "if ((age >= teenage) and registered) :\n",
    "    print(\"eligible to vote\")"
   ]
  },
  {
   "cell_type": "code",
   "execution_count": 18,
   "metadata": {},
   "outputs": [
    {
     "name": "stdout",
     "output_type": "stream",
     "text": [
      "uneligible to vote\n"
     ]
    }
   ],
   "source": [
    "registered = True\n",
    "if ((age >= teenage) and registered) :\n",
    "    print(\"eligible to vote\")\n",
    "else :\n",
    "    print(\"uneligible to vote\")"
   ]
  },
  {
   "cell_type": "code",
   "execution_count": 19,
   "metadata": {},
   "outputs": [
    {
     "name": "stdout",
     "output_type": "stream",
     "text": [
      "eligible to vote\n"
     ]
    }
   ],
   "source": [
    "age = 20\n",
    "if ((age >= teenage) and registered) :\n",
    "    print(\"eligible to vote\")"
   ]
  },
  {
   "cell_type": "code",
   "execution_count": 20,
   "metadata": {},
   "outputs": [
    {
     "name": "stdout",
     "output_type": "stream",
     "text": [
      "eligible to vote\n"
     ]
    }
   ],
   "source": [
    "def eligible_to_vote (age, registered) :\n",
    "    if ((age >= teenage) and registered) :\n",
    "        print(\"eligible to vote\")\n",
    "        \n",
    "        \n",
    "eligible_to_vote(35, True)     \n",
    "eligible_to_vote(12, False)        \n",
    "eligible_to_vote(59, False)        "
   ]
  },
  {
   "cell_type": "code",
   "execution_count": 21,
   "metadata": {},
   "outputs": [
    {
     "name": "stdout",
     "output_type": "stream",
     "text": [
      "age = 35 registered = True\n",
      "age = 35 eligible to vote\n",
      "age = 12 registered = False\n",
      "age = 59 registered = False\n"
     ]
    }
   ],
   "source": [
    "def eligible_to_vote (age, registered) :    \n",
    "    print(f\"age = {age} registered = {registered}\")\n",
    "    \n",
    "    if ((age >= teenage) and registered) :\n",
    "        print(f\"age = {age} eligible to vote\")\n",
    "        \n",
    "        \n",
    "eligible_to_vote(35, True)     \n",
    "eligible_to_vote(12, False)        \n",
    "eligible_to_vote(59, False)        "
   ]
  },
  {
   "cell_type": "code",
   "execution_count": 22,
   "metadata": {},
   "outputs": [
    {
     "name": "stdout",
     "output_type": "stream",
     "text": [
      "age = 35, registered=True, eligible to vote=True\n",
      "age = 12, registered=False, eligible to vote=False\n",
      "age = 59, registered=False, eligible to vote=False\n"
     ]
    }
   ],
   "source": [
    "def eligible_to_vote2 (age, registered) :    \n",
    "    retval = False\n",
    "    if ((age >= teenage) and registered) :\n",
    "        retval = True\n",
    "    \n",
    "    return retval    \n",
    "        \n",
    "        \n",
    "print(f\"age = 35, registered=True, eligible to vote={eligible_to_vote2(35, True)}\")     \n",
    "print(f\"age = 12, registered=False, eligible to vote={eligible_to_vote2(12, False)}\")   \n",
    "print(f\"age = 59, registered=False, eligible to vote={eligible_to_vote2(59, False)}\")   "
   ]
  },
  {
   "cell_type": "code",
   "execution_count": null,
   "metadata": {},
   "outputs": [],
   "source": [
    "def eligible_to_vote3 (registered) :    \n",
    "    if (registered) :\n",
    "        retval = True\n",
    "    else :    \n",
    "        retval = False\n",
    "    \n",
    "    return retval    \n",
    "\n",
    "print(f\"registered=True, eligible to vote={eligible_to_vote3(True)}\")     \n",
    "print(f\"registered=False, eligible to vote={eligible_to_vote3(False)}\")   \n",
    "print(f\"registered=False, eligible to vote={eligible_to_vote3(False)}\")   "
   ]
  },
  {
   "cell_type": "code",
   "execution_count": null,
   "metadata": {},
   "outputs": [],
   "source": [
    "def eligible_to_vote3 (age, registered) :    \n",
    "    if (registered) :\n",
    "        if (age >= teenage) :\n",
    "            retval = True\n",
    "        else :    \n",
    "            retval = False\n",
    "    else :    \n",
    "        retval = False\n",
    "    \n",
    "    return retval    \n",
    "\n",
    "print(f\"age = 35, registered=True, eligible to vote={eligible_to_vote3(35, True)}\")     \n",
    "print(f\"age = 12, registered=False, eligible to vote={eligible_to_vote3(12, False)}\")   \n",
    "print(f\"age = 59, registered=False, eligible to vote={eligible_to_vote3(59, False)}\")   "
   ]
  },
  {
   "cell_type": "markdown",
   "metadata": {},
   "source": [
    "### Hurricane category examples"
   ]
  },
  {
   "cell_type": "code",
   "execution_count": null,
   "metadata": {},
   "outputs": [],
   "source": [
    "# Hurricane category program\n",
    "speed = input(\"What is the wind's speed? \")\n",
    "speed = int(speed)\n",
    "if speed > 155 :\n",
    "    print(f\"Wind speed of {speed} is Category 5 Hurricane\")\n",
    "elif speed >= 131 :    \n",
    "    print(f\"Wind speed of {speed} is Category 4 Hurricane\")\n",
    "elif speed >= 111 :    \n",
    "    print(f\"Wind speed of {speed} is Category 3 Hurricane\")\n",
    "elif speed >= 96 :    \n",
    "    print(f\"Wind speed of {speed} is Category 2 Hurricane\")\n",
    "elif speed >= 74 :    \n",
    "    print(f\"Wind speed of {speed} is Category 1 Hurricane\")\n",
    "else :    \n",
    "    print(f\"Wind speed of {speed} is not a hurricane\")"
   ]
  },
  {
   "cell_type": "code",
   "execution_count": null,
   "metadata": {},
   "outputs": [],
   "source": [
    "# The program using a function \n",
    "def check_hurricane_category(windspeed) :\n",
    "    if windspeed > 155 :\n",
    "        print(f\"Wind speed of {windspeed} is Category 5 Hurricane\")\n",
    "    elif windspeed >= 131 :    \n",
    "        print(f\"Wind speed of {windspeed} is Category 4 Hurricane\")\n",
    "    elif windspeed >= 111 :    \n",
    "        print(f\"Wind speed of {windspeed} is Category 3 Hurricane\")\n",
    "    elif windspeed >= 96 :    \n",
    "        print(f\"Wind speed of {windspeed} is Category 2 Hurricane\")\n",
    "    elif windspeed >= 74 :    \n",
    "        print(f\"Wind speed of {windspeed} is Category 1 Hurricane\")\n",
    "    else :    \n",
    "        print(f\"Wind speed of {windspeed} is not a hurricane\")\n",
    "        \n",
    " \n",
    "speed = int(input(\"What is the wind's speed? \"))\n",
    "check_hurricane_category(speed)"
   ]
  },
  {
   "cell_type": "markdown",
   "metadata": {},
   "source": [
    "### Repetition statements (loops)"
   ]
  },
  {
   "cell_type": "code",
   "execution_count": null,
   "metadata": {},
   "outputs": [],
   "source": [
    "answer = input(\"What is the wind's speed? (type 'q' to quit) \")\n",
    "while (answer != 'q') :\n",
    "    check_hurricane_category(int(answer))\n",
    "    answer = input(\"What is the wind's speed? (type 'q' to quit) \")\n",
    "    \n",
    "print(\"Goodbye\")"
   ]
  },
  {
   "cell_type": "code",
   "execution_count": null,
   "metadata": {},
   "outputs": [],
   "source": [
    "# using for loop, ask the question 5 times\n",
    "\n",
    "for index in range(5) :\n",
    "    answer = input(\"What is the wind's speed? \")\n",
    "    check_hurricane_category(int(answer))\n",
    "\n",
    "print(\"Goodbye\")    "
   ]
  },
  {
   "cell_type": "code",
   "execution_count": null,
   "metadata": {},
   "outputs": [],
   "source": [
    "# using break...\n",
    "# using for loop, ask the question 5 times or less\n",
    "\n",
    "for index in range(5) :\n",
    "    answer = input(\"What is the wind's speed? (type 'q' to quit): \")\n",
    "    if answer == 'q' :\n",
    "        break\n",
    "    else :    \n",
    "        check_hurricane_category(int(answer))\n",
    "\n",
    "print(\"Goodbye\")         "
   ]
  },
  {
   "cell_type": "code",
   "execution_count": null,
   "metadata": {},
   "outputs": [],
   "source": [
    "# Using an infinite loop. Generally not used this way\n",
    "while True :\n",
    "    answer = input(\"What is the wind's speed? (type 'q' to quit) \")\n",
    "    if answer == 'q' :\n",
    "        break\n",
    "        \n",
    "    check_hurricane_category(int(answer))\n",
    "    \n",
    "    \n",
    "print(\"Goodbye\")"
   ]
  },
  {
   "cell_type": "markdown",
   "metadata": {},
   "source": [
    "### Challenge 2"
   ]
  },
  {
   "cell_type": "code",
   "execution_count": null,
   "metadata": {},
   "outputs": [],
   "source": [
    "# Challenge 2 calculate employee's pay using loops\n",
    "\n",
    "employee_id = input(\"What is employee number? \")\n",
    "payrate = input(\"What is employee's payrate? \")\n",
    "worked_hr = input(\"What is employee's worked hours? \")\n",
    "\n",
    "payrate = float(payrate)\n",
    "worked_hr = float(worked_hr)\n",
    "\n",
    "while worked_hr > 60 :\n",
    "    worked_hr = float(input(\"Incorrect entry. Please re-enter employee's worked hours. \"))\n",
    "    \n",
    "while payrate > 25.0 :\n",
    "    payrate = float(input(\"Incorrect entry. Please re-enter employee's payrate. \"))\n",
    "\n",
    "\n",
    "if worked_hr > 35 :\n",
    "    over_hr = worked_hr - 35\n",
    "    over_pay = payrate * 1.5 * over_hr\n",
    "    reg_hr = 35\n",
    "else :\n",
    "    over_hr = 0\n",
    "    over_pay = 0\n",
    "    reg_hr = worked_hr\n",
    "    \n",
    "reg_pay = reg_hr * payrate\n",
    "wk_pay = reg_pay + over_pay\n",
    "\n",
    "print(f\"\"\"\n",
    "Employee: {employee_id}\n",
    "Payrate: {payrate}\n",
    "Hours Worked: {worked_hr}\n",
    "Pay: {wk_pay:,.2f}\n",
    "\"\"\")\n",
    "    "
   ]
  },
  {
   "cell_type": "code",
   "execution_count": null,
   "metadata": {},
   "outputs": [],
   "source": [
    "# BETTER - Calculate employee's pay\n",
    "\n",
    "employee_id = input(\"What is employee number? \")\n",
    "\n",
    "# get payrate\n",
    "payrate = float(input(\"What is employee's payrate? \"))\n",
    "while payrate > 25.0 :          # error check\n",
    "    payrate = float(input(\"Incorrect entry. Please re-enter employee's payrate. \"))\n",
    "\n",
    "# get worked hour\n",
    "worked_hr = float(input(\"What is employee's worked hours? \"))    \n",
    "while worked_hr > 60 :          # error check\n",
    "    worked_hr = float(input(\"Incorrect entry. Please re-enter employee's worked hours. \"))\n",
    "\n",
    "    \n",
    "if worked_hr > 35 :             # compute over-time pay\n",
    "    over_hr = worked_hr - 35\n",
    "    over_pay = payrate * 1.5 * over_hr\n",
    "    reg_hr = 35\n",
    "else :                          # compute reg pay\n",
    "    over_hr = 0\n",
    "    over_pay = 0\n",
    "    reg_hr = worked_hr\n",
    "    \n",
    "reg_pay = reg_hr * payrate\n",
    "wk_pay = reg_pay + over_pay\n",
    "\n",
    "print(f\"\"\"\n",
    "Employee: {employee_id}\n",
    "Payrate: ${payrate:.2f}\n",
    "Hours Worked: {worked_hr}\n",
    "Pay: ${wk_pay:,.2f}\n",
    "\"\"\")\n",
    "    "
   ]
  },
  {
   "cell_type": "code",
   "execution_count": null,
   "metadata": {},
   "outputs": [],
   "source": [
    "# even BETTER - Calculate employee's pay\n",
    "\n",
    "# use (constant) variable\n",
    "MAXRATE = 25.0\n",
    "MAXHR = 60\n",
    "REGHR = 35\n",
    "\n",
    "employee_id = input(\"What is employee number? \")\n",
    "payrate = float(input(\"What is employee's payrate? \"))\n",
    "while payrate > MAXRATE :\n",
    "    payrate = float(input(\"Incorrect entry. Please re-enter employee's payrate. \"))\n",
    "    \n",
    "worked_hr = float(input(\"What is employee's worked hours? \"))    \n",
    "while worked_hr > MAXHR :\n",
    "    worked_hr = float(input(\"Incorrect entry. Please re-enter employee's worked hours. \"))\n",
    "\n",
    "if worked_hr > REGHR :\n",
    "    over_hr = worked_hr - REGHR\n",
    "    over_pay = payrate * 1.5 * over_hr\n",
    "    reg_hr = REGHR\n",
    "else :\n",
    "    over_hr = 0\n",
    "    over_pay = 0\n",
    "    reg_hr = worked_hr\n",
    "    \n",
    "reg_pay = reg_hr * payrate\n",
    "wk_pay = reg_pay + over_pay\n",
    "\n",
    "print(f\"\"\"\n",
    "Employee: {employee_id}\n",
    "Payrate: ${payrate:.2f}\n",
    "Hours Worked: {worked_hr}\n",
    "Pay: ${wk_pay:,.2f}\n",
    "\"\"\")\n",
    "    "
   ]
  }
 ],
 "metadata": {
  "kernelspec": {
   "display_name": "Python 3 (ipykernel)",
   "language": "python",
   "name": "python3"
  },
  "language_info": {
   "codemirror_mode": {
    "name": "ipython",
    "version": 3
   },
   "file_extension": ".py",
   "mimetype": "text/x-python",
   "name": "python",
   "nbconvert_exporter": "python",
   "pygments_lexer": "ipython3",
   "version": "3.10.9"
  }
 },
 "nbformat": 4,
 "nbformat_minor": 4
}
