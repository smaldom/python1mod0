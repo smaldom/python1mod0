{
 "cells": [
  {
   "cell_type": "code",
   "execution_count": 1,
   "id": "1d1eb2a2",
   "metadata": {},
   "outputs": [
    {
     "name": "stdout",
     "output_type": "stream",
     "text": [
      "With a length of 20 and a width of 10\n",
      "the area of the rectangle is 200\n"
     ]
    }
   ],
   "source": [
    "length = 20\n",
    "width = 10\n",
    "area = length * width\n",
    "print(\"With a length of\", length,\"and a width of\", width)\n",
    "print(\"the area of the rectangle is\", area)"
   ]
  },
  {
   "cell_type": "code",
   "execution_count": 2,
   "id": "0311b324",
   "metadata": {},
   "outputs": [
    {
     "name": "stdout",
     "output_type": "stream",
     "text": [
      "With a length of 20.4 and a width of 10.6\n",
      "the area of the rectangle is 216.24\n"
     ]
    }
   ],
   "source": [
    "length = 20.4\n",
    "width = 10.6\n",
    "area = length * width\n",
    "print(\"With a length of\", length, \"and a width of\", width)\n",
    "print(f\"the area of the rectangle is {area:.2f}\")"
   ]
  },
  {
   "cell_type": "code",
   "execution_count": 4,
   "id": "329b5f9d",
   "metadata": {},
   "outputs": [
    {
     "name": "stdout",
     "output_type": "stream",
     "text": [
      "Length:\t20.4\n",
      "Width:\t10.6\n",
      "Area:\t216.24\n"
     ]
    }
   ],
   "source": [
    "length = 20.4\n",
    "width = 10.6\n",
    "area = length * width\n",
    "print(f\"Length:\\t{length}\\nWidth:\\t{width}\\nArea:\\t{area:.2f}\")"
   ]
  }
 ],
 "metadata": {
  "kernelspec": {
   "display_name": "Python 3 (ipykernel)",
   "language": "python",
   "name": "python3"
  },
  "language_info": {
   "codemirror_mode": {
    "name": "ipython",
    "version": 3
   },
   "file_extension": ".py",
   "mimetype": "text/x-python",
   "name": "python",
   "nbconvert_exporter": "python",
   "pygments_lexer": "ipython3",
   "version": "3.9.12"
  }
 },
 "nbformat": 4,
 "nbformat_minor": 5
}
