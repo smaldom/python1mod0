{
 "cells": [
  {
   "cell_type": "code",
   "execution_count": 1,
   "id": "888014c6",
   "metadata": {},
   "outputs": [
    {
     "name": "stdout",
     "output_type": "stream",
     "text": [
      "Enter 8 binary digits: 01010101\n",
      "01010101 has a decimal value of 85\n"
     ]
    }
   ],
   "source": [
    "binary_number = input(\"Enter 8 binary digits: \")\n",
    "decimal_value = int(binary_number, 2)\n",
    "print(binary_number, \"has a decimal value of\",  decimal_value)"
   ]
  },
  {
   "cell_type": "code",
   "execution_count": 3,
   "id": "ab69d84c",
   "metadata": {},
   "outputs": [
    {
     "name": "stdout",
     "output_type": "stream",
     "text": [
      "Enter the number of inches: 125\n",
      "125 inches is equal to 317.5 centimeters.\n"
     ]
    }
   ],
   "source": [
    "inches = int(input(\"Enter the number of inches: \"))\n",
    "centimeters = inches * 2.54\n",
    "print(inches, \"inches is equal to\", centimeters, \"centimeters.\")"
   ]
  },
  {
   "cell_type": "raw",
   "id": "adb6b84a",
   "metadata": {},
   "source": [
    "BEGIN\n",
    "    sum = 0\n",
    "    count = 0\n",
    "    LOOP while count < 10\n",
    "        Get a number from the user\n",
    "        Add the number to sum\n",
    "        Add 1 to count\n",
    "    ENDLOOP\n",
    "    avg = sum / 10\n",
    "    Display avg to user\n",
    "END"
   ]
  },
  {
   "cell_type": "code",
   "execution_count": 1,
   "id": "f6e5393c",
   "metadata": {},
   "outputs": [
    {
     "name": "stdout",
     "output_type": "stream",
     "text": [
      "Enter a number to add to the total: 67\n",
      "Enter a number to add to the total: 9\n",
      "Enter a number to add to the total: 89\n",
      "Enter a number to add to the total: 98\n",
      "Enter a number to add to the total: 5\n",
      "Enter a number to add to the total: 7\n",
      "Enter a number to add to the total: 8\n",
      "Enter a number to add to the total: 9\n",
      "Enter a number to add to the total: 8\n",
      "Enter a number to add to the total: 7\n",
      "The total is 307.0 and the average is 30.7 .\n"
     ]
    }
   ],
   "source": [
    "total = 0\n",
    "count = 0\n",
    "while count < 10 :\n",
    "    amount = float(input(\"Enter a number to add to the total: \"))\n",
    "    total = total + amount\n",
    "    count = count + 1\n",
    "avg = total / 10\n",
    "print(\"The total is\", total, \"and the average is\", avg, \".\")"
   ]
  },
  {
   "cell_type": "code",
   "execution_count": null,
   "id": "cfd7a20a",
   "metadata": {},
   "outputs": [],
   "source": []
  }
 ],
 "metadata": {
  "kernelspec": {
   "display_name": "Python 3 (ipykernel)",
   "language": "python",
   "name": "python3"
  },
  "language_info": {
   "codemirror_mode": {
    "name": "ipython",
    "version": 3
   },
   "file_extension": ".py",
   "mimetype": "text/x-python",
   "name": "python",
   "nbconvert_exporter": "python",
   "pygments_lexer": "ipython3",
   "version": "3.10.9"
  }
 },
 "nbformat": 4,
 "nbformat_minor": 5
}
