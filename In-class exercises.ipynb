{
 "cells": [
  {
   "cell_type": "code",
   "execution_count": 1,
   "id": "888014c6",
   "metadata": {},
   "outputs": [
    {
     "name": "stdout",
     "output_type": "stream",
     "text": [
      "Enter 8 binary digits: 01010101\n",
      "01010101 has a decimal value of 85\n"
     ]
    }
   ],
   "source": [
    "binary_number = input(\"Enter 8 binary digits: \")\n",
    "decimal_value = int(binary_number, 2)\n",
    "print(binary_number, \"has a decimal value of\",  decimal_value)"
   ]
  },
  {
   "cell_type": "code",
   "execution_count": 3,
   "id": "ab69d84c",
   "metadata": {},
   "outputs": [
    {
     "name": "stdout",
     "output_type": "stream",
     "text": [
      "Enter the number of inches: 125\n",
      "125 inches is equal to 317.5 centimeters.\n"
     ]
    }
   ],
   "source": [
    "inches = int(input(\"Enter the number of inches: \"))\n",
    "centimeters = inches * 2.54\n",
    "print(inches, \"inches is equal to\", centimeters, \"centimeters.\")"
   ]
  },
  {
   "cell_type": "raw",
   "id": "adb6b84a",
   "metadata": {},
   "source": [
    "BEGIN\n",
    "    sum = 0\n",
    "    count = 0\n",
    "    LOOP while count < 10\n",
    "        Get a number from the user\n",
    "        Add the number to sum\n",
    "        Add 1 to count\n",
    "    ENDLOOP\n",
    "    avg = sum / 10\n",
    "    Display avg to user\n",
    "END"
   ]
  },
  {
   "cell_type": "code",
   "execution_count": 1,
   "id": "f6e5393c",
   "metadata": {},
   "outputs": [
    {
     "name": "stdout",
     "output_type": "stream",
     "text": [
      "Enter a number to add to the total: 67\n",
      "Enter a number to add to the total: 9\n",
      "Enter a number to add to the total: 89\n",
      "Enter a number to add to the total: 98\n",
      "Enter a number to add to the total: 5\n",
      "Enter a number to add to the total: 7\n",
      "Enter a number to add to the total: 8\n",
      "Enter a number to add to the total: 9\n",
      "Enter a number to add to the total: 8\n",
      "Enter a number to add to the total: 7\n",
      "The total is 307.0 and the average is 30.7 .\n"
     ]
    }
   ],
   "source": [
    "total = 0\n",
    "count = 0\n",
    "while count < 10 :\n",
    "    amount = float(input(\"Enter a number to add to the total: \"))\n",
    "    total = total + amount\n",
    "    count = count + 1\n",
    "avg = total / 10\n",
    "print(\"The total is\", total, \"and the average is\", avg, \".\")"
   ]
  },
  {
   "cell_type": "raw",
   "id": "2a1576c7",
   "metadata": {},
   "source": [
    "BEGIN\n",
    "    Get an integer from the user\n",
    "    Assign the integer to a variable\n",
    "    IF (the variable modulus 2 equals 0)\n",
    "        Display the \"Even Number\" message\n",
    "    ELSE\n",
    "        Display the \"Odd Number\" message\n",
    "    ENDIF\n",
    "END"
   ]
  },
  {
   "cell_type": "code",
   "execution_count": 1,
   "id": "07b79985",
   "metadata": {},
   "outputs": [
    {
     "name": "stdout",
     "output_type": "stream",
     "text": [
      "Please enter a whole number: 120\n",
      "120 is an even number.\n"
     ]
    }
   ],
   "source": [
    "number = int(input(\"Please enter a whole number: \"))\n",
    "if (number % 2 == 0) :\n",
    "    print(number, \"is an even number.\")\n",
    "else :\n",
    "    print(number, \"is an odd number.\")"
   ]
  },
  {
   "cell_type": "code",
   "execution_count": 2,
   "id": "cc511e25",
   "metadata": {},
   "outputs": [
    {
     "name": "stdout",
     "output_type": "stream",
     "text": [
      "Please enter a whole number: 311\n",
      "311 is an odd number.\n"
     ]
    }
   ],
   "source": [
    "number = int(input(\"Please enter a whole number: \"))\n",
    "if (number % 2 == 0) :\n",
    "    print(number, \"is an even number.\")\n",
    "else :\n",
    "    print(number, \"is an odd number.\")"
   ]
  },
  {
   "cell_type": "code",
   "execution_count": 7,
   "id": "8a90d463",
   "metadata": {},
   "outputs": [
    {
     "name": "stdout",
     "output_type": "stream",
     "text": [
      "With a length of 20 and a width of 10 ,\n",
      "the area of the rectangle is 200 .\n"
     ]
    }
   ],
   "source": [
    "length = 20\n",
    "width = 10\n",
    "area = length * width\n",
    "print('With a length of', length, 'and a width of', width, ',')\n",
    "print('the area of the rectangle is', area, '.')\n"
   ]
  },
  {
   "cell_type": "code",
   "execution_count": 1,
   "id": "c0ba22a0",
   "metadata": {},
   "outputs": [
    {
     "name": "stdout",
     "output_type": "stream",
     "text": [
      "With a length of 20.3 and a width of 10.2 , the area of the rectangle is 207.06 .\n"
     ]
    }
   ],
   "source": [
    "length = 20.3\n",
    "width = 10.2\n",
    "area = length * width\n",
    "print('With a length of', length, 'and a width of', width, ',', 'the area of the rectangle is', area, '.')"
   ]
  },
  {
   "cell_type": "code",
   "execution_count": 17,
   "id": "e03abaa5",
   "metadata": {},
   "outputs": [
    {
     "name": "stdout",
     "output_type": "stream",
     "text": [
      "With a length of 20.4 and a width of 10.6 ,\n",
      "the area of the rectangle is 216.24 .\n"
     ]
    }
   ],
   "source": [
    "length = 20.4\n",
    "width = 10.6\n",
    "area = length * width\n",
    "print('With a length of', length, 'and a width of', width, ',')\n",
    "print(f\"the area of the rectangle is {area :.2f}\", \".\")"
   ]
  },
  {
   "cell_type": "code",
   "execution_count": 21,
   "id": "46683d06",
   "metadata": {
    "scrolled": true
   },
   "outputs": [
    {
     "name": "stdout",
     "output_type": "stream",
     "text": [
      "Length:\t20.4\n",
      "Width:\t10.6\n",
      "Area: \t216.24\n"
     ]
    }
   ],
   "source": [
    "length = 20.4\n",
    "width = 10.6\n",
    "area = length * width\n",
    "print(f\"Length:\\t{length}\\nWidth:\\t{width}\\nArea: \\t{area :.2f}\")"
   ]
  },
  {
   "cell_type": "markdown",
   "id": "568feb5b",
   "metadata": {},
   "source": [
    "# MODULE 4"
   ]
  },
  {
   "cell_type": "code",
   "execution_count": 24,
   "id": "5c87bcfe",
   "metadata": {},
   "outputs": [
    {
     "name": "stdout",
     "output_type": "stream",
     "text": [
      "One argument\n",
      "\n",
      "Argument 1 Argument 2\n",
      "\n",
      "Argument 1|Argument 2\n",
      "\n",
      "Argument 1 Argument 2???"
     ]
    }
   ],
   "source": [
    "print(\"One argument\")\n",
    "print()\n",
    "print(\"Argument 1\", \"Argument 2\")\n",
    "print()\n",
    "print(\"Argument 1\", \"Argument 2\", sep='|')\n",
    "print()\n",
    "print(\"Argument 1\",\"Argument 2\", end='???')"
   ]
  },
  {
   "cell_type": "code",
   "execution_count": 25,
   "id": "cf5b0cd4",
   "metadata": {},
   "outputs": [
    {
     "name": "stdout",
     "output_type": "stream",
     "text": [
      "Argument 1*Argument 2!"
     ]
    }
   ],
   "source": [
    "print(\"Argument 1\", \"Argument 2\", sep='*', end='!')"
   ]
  },
  {
   "cell_type": "code",
   "execution_count": 26,
   "id": "1d98ae50",
   "metadata": {},
   "outputs": [
    {
     "name": "stdout",
     "output_type": "stream",
     "text": [
      "Argument 2&Argument 1!"
     ]
    }
   ],
   "source": [
    "print(\"Argument 2\", \"Argument 1\", end='!', sep='&')\n",
    "# arguments that are literals appear in the order set in the string, they are positional. \n",
    "# Named arguments can be in any order because their function comes from their names."
   ]
  },
  {
   "cell_type": "markdown",
   "id": "74149f29",
   "metadata": {},
   "source": [
    "# Integer Function"
   ]
  },
  {
   "cell_type": "code",
   "execution_count": 10,
   "id": "47f0add0",
   "metadata": {},
   "outputs": [
    {
     "name": "stdout",
     "output_type": "stream",
     "text": [
      "Enter the length of the rectangle: 30\n",
      "Enter the width of the rectangle: 15\n"
     ]
    },
    {
     "ename": "TypeError",
     "evalue": "can't multiply sequence by non-int of type 'str'",
     "output_type": "error",
     "traceback": [
      "\u001b[1;31m---------------------------------------------------------------------------\u001b[0m",
      "\u001b[1;31mTypeError\u001b[0m                                 Traceback (most recent call last)",
      "Cell \u001b[1;32mIn[10], line 5\u001b[0m\n\u001b[0;32m      3\u001b[0m width \u001b[38;5;241m=\u001b[39m \u001b[38;5;28minput\u001b[39m(\u001b[38;5;124m\"\u001b[39m\u001b[38;5;124mEnter the width of the rectangle: \u001b[39m\u001b[38;5;124m\"\u001b[39m)\n\u001b[0;32m      4\u001b[0m \u001b[38;5;66;03m#calculate the area\u001b[39;00m\n\u001b[1;32m----> 5\u001b[0m area \u001b[38;5;241m=\u001b[39m \u001b[43mlength\u001b[49m\u001b[43m \u001b[49m\u001b[38;5;241;43m*\u001b[39;49m\u001b[43m \u001b[49m\u001b[43mwidth\u001b[49m\n\u001b[0;32m      6\u001b[0m \u001b[38;5;66;03m#display the area to the user\u001b[39;00m\n\u001b[0;32m      7\u001b[0m \u001b[38;5;28mprint\u001b[39m(\u001b[38;5;124mf\u001b[39m\u001b[38;5;124m\"\u001b[39m\u001b[38;5;124mA rectangle with a length of \u001b[39m\u001b[38;5;132;01m{\u001b[39;00mlength\u001b[38;5;132;01m}\u001b[39;00m\u001b[38;5;124m\"\u001b[39m,end\u001b[38;5;241m=\u001b[39m\u001b[38;5;124m\"\u001b[39m\u001b[38;5;124m \u001b[39m\u001b[38;5;124m\"\u001b[39m)\n",
      "\u001b[1;31mTypeError\u001b[0m: can't multiply sequence by non-int of type 'str'"
     ]
    }
   ],
   "source": [
    "#get the length and width from user\n",
    "length = input(\"Enter the length of the rectangle: \")\n",
    "width = input(\"Enter the width of the rectangle: \")\n",
    "#calculate the area\n",
    "area = length * width\n",
    "#display the area to the user\n",
    "print(f\"A rectangle with a length of {length}\",end=\" \")\n",
    "print(f\"and a width of {width} has an area of {area}.\")"
   ]
  },
  {
   "cell_type": "code",
   "execution_count": 13,
   "id": "4915fa08",
   "metadata": {},
   "outputs": [
    {
     "name": "stdout",
     "output_type": "stream",
     "text": [
      "Enter the length of the rectangle: 30\n",
      "Enter the width of the rectangle: 15\n",
      "A rectangle with a length of 30 and a width of 15 has an area of 450.\n"
     ]
    }
   ],
   "source": [
    "#integer function\n",
    "    #code above corrected\n",
    "    #get the length and width from user\n",
    "length = int(input(\"Enter the length of the rectangle: \"))\n",
    "width = int(input(\"Enter the width of the rectangle: \"))\n",
    "    #calculate the area\n",
    "area = length * width\n",
    "    #display the area to the user\n",
    "print(f\"A rectangle with a length of {length}\",end=\" \")\n",
    "print(f\"and a width of {width} has an area of {area}.\")"
   ]
  },
  {
   "cell_type": "code",
   "execution_count": 14,
   "id": "adc9d725",
   "metadata": {},
   "outputs": [
    {
     "name": "stdout",
     "output_type": "stream",
     "text": [
      "Enter the length of the rectangle: 30\n",
      "Enter the width of the rectangle: 15\n",
      "The rectangle has an area of 450.\n"
     ]
    }
   ],
   "source": [
    "#also possible with longer structure:\n",
    "length = input(\"Enter the length of the rectangle: \")\n",
    "length = int(length)\n",
    "width = input(\"Enter the width of the rectangle: \")\n",
    "width = int(width)\n",
    "#calculate the area\n",
    "area = length * width\n",
    "print(f\"The rectangle has an area of {area}.\")"
   ]
  },
  {
   "cell_type": "code",
   "execution_count": 15,
   "id": "ccf23d1f",
   "metadata": {},
   "outputs": [
    {
     "name": "stdout",
     "output_type": "stream",
     "text": [
      "Enter the length of the rectangle: 30\n",
      "Enter the width of the rectangle: 15\n",
      "A rectangle with a length of 30 and a width of 15 has an area of 450.\n"
     ]
    }
   ],
   "source": [
    "length = int(input(\"Enter the length of the rectangle: \"))\n",
    "width = int(input(\"Enter the width of the rectangle: \"))\n",
    "area = length * width\n",
    "print(f\"A rectangle with a length of {length} and a width of {width} has an area of {area}.\")"
   ]
  },
  {
   "cell_type": "markdown",
   "id": "e08db411",
   "metadata": {},
   "source": [
    "# String function"
   ]
  },
  {
   "cell_type": "code",
   "execution_count": 18,
   "id": "2424f996",
   "metadata": {},
   "outputs": [
    {
     "name": "stdout",
     "output_type": "stream",
     "text": [
      "Enter the length of the rectangle: 30\n",
      "Enter the width of the rectangle: 15\n",
      "A rectangle with a length of 30 and a width of 15 has an area of 450\n"
     ]
    }
   ],
   "source": [
    "#Casting an integer to a string/string function\n",
    "length = int(input(\"Enter the length of the rectangle: \"))\n",
    "width = int(input(\"Enter the width of the rectangle: \"))\n",
    "\n",
    "area = length * width\n",
    "\n",
    "#print(f\"A rectangle with a length of {length}\",end=\" \")\n",
    "#print(f\"and a width of {width} has an area of {area}.\")\n",
    "\n",
    "area_message = \"A rectangle with a length of \" + str(length)\n",
    "area_message = area_message + \" and a width of \" + str(width)\n",
    "area_message = area_message + \" has an area of \" + str(area)\n",
    "\n",
    "print(area_message)"
   ]
  },
  {
   "cell_type": "markdown",
   "id": "3a6de74d",
   "metadata": {},
   "source": [
    "# Round and float functions"
   ]
  },
  {
   "cell_type": "code",
   "execution_count": 32,
   "id": "c307faa5",
   "metadata": {},
   "outputs": [
    {
     "name": "stdout",
     "output_type": "stream",
     "text": [
      "Enter the length of the rectangle: 20.4\n",
      "Enter the width of the rectangle: 10.6\n",
      "A rectangle with a length of 20.4 and a width of 10.6 has an area of 216.24\n"
     ]
    }
   ],
   "source": [
    "#\n",
    "    #get the length and width from user\n",
    "length = float(input(\"Enter the length of the rectangle: \"))\n",
    "width = float(input(\"Enter the width of the rectangle: \"))\n",
    "area = round(length * width,2) #calculate the area\n",
    "    #create the area message\n",
    "area_message = \"A rectangle with a length of \" + str(length)\n",
    "area_message = area_message + \" and a width of \" + str(width)\n",
    "area_message = area_message + \" has an area of \" + str(area)\n",
    "\n",
    "print(area_message) #display the area message\n"
   ]
  },
  {
   "cell_type": "markdown",
   "id": "1b8e93dc",
   "metadata": {},
   "source": [
    "# Random and def functions"
   ]
  },
  {
   "cell_type": "code",
   "execution_count": 37,
   "id": "523e24a3",
   "metadata": {},
   "outputs": [
    {
     "name": "stdout",
     "output_type": "stream",
     "text": [
      "-216\n"
     ]
    }
   ],
   "source": [
    "import random as rand\n",
    "\n",
    "#Define a function to return a random x coordinate\n",
    "def position_ball(left_limit, right_limit) :\n",
    "    x_position = rand.randint(left_limit, right_limit)\n",
    "    return x_position\n",
    "\n",
    "#Call the function and display the returned value\n",
    "x_pos = position_ball(-220,220)\n",
    "print(x_pos)"
   ]
  },
  {
   "cell_type": "markdown",
   "id": "d09b0c17",
   "metadata": {},
   "source": [
    "# Conditional statements"
   ]
  },
  {
   "cell_type": "raw",
   "id": "2de49780",
   "metadata": {},
   "source": [
    "BEGIN\n",
    "    Display \"Enter the first number: \"\n",
    "    Get the first number\n",
    "    Display \"Enter the second number: \"\n",
    "    Get the second number\n",
    "    IF (first number > second number)\n",
    "        Display first number is larger message\n",
    "    ELSE IF (first number < second number)\n",
    "        Display second number is larger message\n",
    "    ELSE\n",
    "        Display two numbers are the same message\n",
    "    ENDIF\n",
    "END"
   ]
  },
  {
   "cell_type": "code",
   "execution_count": 11,
   "id": "117fbdd1",
   "metadata": {},
   "outputs": [
    {
     "name": "stdout",
     "output_type": "stream",
     "text": [
      "Enter a number: 35\n",
      "Enter a second number: 45\n",
      "45 is larger than 35.\n",
      "Goodbye!\n"
     ]
    }
   ],
   "source": [
    "first_number = int(input(\"Enter a number: \"))\n",
    "second_number = int(input(\"Enter a second number: \"))\n",
    "\n",
    "if first_number > second_number:\n",
    "    print(first_number, \"is larger than\", second_number,\".\")\n",
    "elif first_number < second_number:\n",
    "    print(f\"{second_number} is larger than {first_number}.\")\n",
    "# The example above is to format the period without the extra space after the last variable\n",
    "else :\n",
    "    print(\"The two numbers are the same.\")\n",
    "print(\"Goodbye!\")"
   ]
  },
  {
   "cell_type": "code",
   "execution_count": 25,
   "id": "111cefcc",
   "metadata": {},
   "outputs": [
    {
     "name": "stdout",
     "output_type": "stream",
     "text": [
      "Enter the wind speed: 156\n",
      "This is a Category 5 hurricane.\n"
     ]
    }
   ],
   "source": [
    "wind_speed= int(input(\"Enter the wind speed: \"))\n",
    "if wind_speed > 155:\n",
    "    print(\"This is a Category 5 hurricane.\")\n",
    "elif wind_speed >= 131:\n",
    "    print(\"This is a Category 4 hurricane.\")\n",
    "elif wind_speed >= 111:\n",
    "    print(\"This is a Category 3 hurricane.\")\n",
    "elif wind_speed >= 96:\n",
    "    print(\"This is a Category 2 hurricane.\")\n",
    "elif wind_speed >= 74:\n",
    "    print(\"This is a Category 1 hurricane.\")\n",
    "else:\n",
    "    print(\"This is not a hurricane.\")"
   ]
  },
  {
   "cell_type": "raw",
   "id": "5c651eb6",
   "metadata": {},
   "source": [
    "BEGIN\n",
    "    Get customer_name\n",
    "    Get purchase_amount\n",
    "    Get tax_code\n",
    "    IF tax_code is 0\n",
    "        set tax_rate = 0%\n",
    "    ELSE IF tax_code is 1\n",
    "        set tax_rate = 3%\n",
    "    ELSE IF tax_code is 2\n",
    "        set tax_rate = 5%\n",
    "    ELSE\n",
    "        set tax_rate = 7%\n",
    "    ENDIF\n",
    "    sales_tax = purchased_amount * tax_rate\n",
    "    total = purchased_amount + sales tax\n",
    "    print the customer_name, purchase_amount, sales_tax and total\n",
    "END"
   ]
  },
  {
   "cell_type": "code",
   "execution_count": 6,
   "id": "5e9a48d3",
   "metadata": {},
   "outputs": [
    {
     "name": "stdout",
     "output_type": "stream",
     "text": [
      "Please enter the customer's name: Sam Tarly\n",
      "Enter the purchase amount:1568\n",
      "Please enter the tax code, 0, 1, 2 or none: 2\n",
      "\n",
      "Customer:\tSam Tarly\n",
      "Purchase:\t$1568.00\n",
      "Sales Tax:\t$78.40\n",
      "Total:\t\t$1646.40\n",
      "\n",
      "Thank you for your purchase!\n"
     ]
    }
   ],
   "source": [
    "def get_sales_tax(amount):\n",
    "    tax_code=input(\"Please enter the tax code, 0, 1, 2 or none: \")\n",
    "    if tax_code==\"0\":\n",
    "        tax_rate=0.0\n",
    "    elif tax_code==\"1\":\n",
    "        tax_rate=0.03\n",
    "    elif tax_code==\"2\":\n",
    "        tax_rate=0.05\n",
    "    else:\n",
    "        tax_rate=0.07\n",
    "    sales_tax=amount*tax_rate\n",
    "    return sales_tax\n",
    "\n",
    "customer_name=input(\"Please enter the customer's name: \")\n",
    "purchase_amount=float(input(\"Enter the purchase amount:\"))\n",
    "sales_tax=get_sales_tax(purchase_amount)\n",
    "total=purchase_amount+sales_tax\n",
    "print(f\"\\nCustomer:\\t{customer_name}\\nPurchase:\\t${purchase_amount:.2f}\")\n",
    "print(f\"Sales Tax:\\t${sales_tax:.2f}\\nTotal:\\t\\t${total:.2f}\")\n",
    "print(f\"\\nThank you for your purchase!\")"
   ]
  },
  {
   "cell_type": "code",
   "execution_count": 1,
   "id": "c3741b55",
   "metadata": {},
   "outputs": [
    {
     "name": "stdout",
     "output_type": "stream",
     "text": [
      "Please enter the customer's name: Rhaena Storm\n",
      "Enter the purchase amount:340\n",
      "Please enter the tax code, 0, 1, 2 or none: none\n",
      "\n",
      "Customer:\tRhaena Storm\n",
      "Purchase:\t$340.00\n",
      "Sales Tax:\t$23.80\n",
      "Total:\t\t$363.80\n",
      "\n",
      "Enter more numbers? y or n: y\n",
      "Please enter the customer's name: Jorah Fray\n",
      "Enter the purchase amount:268\n",
      "Please enter the tax code, 0, 1, 2 or none: \n",
      "\n",
      "Customer:\tJorah Fray\n",
      "Purchase:\t$268.00\n",
      "Sales Tax:\t$18.76\n",
      "Total:\t\t$286.76\n",
      "\n",
      "Enter more numbers? y or n: n\n",
      "\n",
      "Thank you for your purchase!\n"
     ]
    }
   ],
   "source": [
    "def get_sales_tax(amount):\n",
    "    tax_code=input(\"Please enter the tax code, 0, 1, 2 or none: \")\n",
    "    if tax_code==\"0\":\n",
    "        tax_rate=0.0\n",
    "    elif tax_code==\"1\":\n",
    "        tax_rate=0.03\n",
    "    elif tax_code==\"2\":\n",
    "        tax_rate=0.05\n",
    "    else:\n",
    "        tax_rate=0.07\n",
    "    sales_tax=amount*tax_rate\n",
    "    return sales_tax\n",
    "\n",
    "again=\"y\"\n",
    "while again==\"y\":\n",
    "# while again equal to y (yes)\n",
    "    customer_name=input(\"Please enter the customer's name: \")\n",
    "    purchase_amount=float(input(\"Enter the purchase amount:\"))\n",
    "    sales_tax=get_sales_tax(purchase_amount)\n",
    "    total=purchase_amount+sales_tax\n",
    "    print(f\"\\nCustomer:\\t{customer_name}\\nPurchase:\\t${purchase_amount:.2f}\")\n",
    "    print(f\"Sales Tax:\\t${sales_tax:.2f}\\nTotal:\\t\\t${total:.2f}\")\n",
    "    again=input(\"\\nEnter more numbers? y or n: \")\n",
    "print(f\"\\nThank you for your purchase!\")"
   ]
  },
  {
   "cell_type": "code",
   "execution_count": 2,
   "id": "23bf9ad0",
   "metadata": {
    "scrolled": false
   },
   "outputs": [
    {
     "name": "stdout",
     "output_type": "stream",
     "text": [
      "\n",
      "Please enter the customer's name: Prim Rhode\n",
      "Enter the purchase amount:-340\n",
      "\n",
      "Incorrect purchase amount. Try again.\n",
      "\n",
      "Please enter the customer's name: Prim Rhode\n",
      "Enter the purchase amount:340\n",
      "Please enter the tax code, 0, 1, 2 or none: \n",
      "\n",
      "Customer:\tPrim Rhode\n",
      "Purchase:\t$340.00\n",
      "Sales Tax:\t$23.80\n",
      "Total:\t\t$363.80\n",
      "\n",
      "Enter more numbers? y or n: y\n",
      "\n",
      "Please enter the customer's name: Walder Fall\n",
      "Enter the purchase amount:2490\n",
      "Please enter the tax code, 0, 1, 2 or none: 2\n",
      "\n",
      "Customer:\tWalder Fall\n",
      "Purchase:\t$2490.00\n",
      "Sales Tax:\t$124.50\n",
      "Total:\t\t$2614.50\n",
      "\n",
      "Enter more numbers? y or n: n\n",
      "\n",
      "Thank you for your purchase!\n"
     ]
    }
   ],
   "source": [
    "#Continue statement\n",
    "def get_sales_tax(amount):\n",
    "    tax_code=input(\"Please enter the tax code, 0, 1, 2 or none: \")\n",
    "    if tax_code==\"0\":\n",
    "        tax_rate=0.0\n",
    "    elif tax_code==\"1\":\n",
    "        tax_rate=0.03\n",
    "    elif tax_code==\"2\":\n",
    "        tax_rate=0.05\n",
    "    else:\n",
    "        tax_rate=0.07\n",
    "    sales_tax=amount*tax_rate\n",
    "    return sales_tax\n",
    "\n",
    "again=\"y\"\n",
    "while again==\"y\":\n",
    "    customer_name=input(\"\\nPlease enter the customer's name: \")\n",
    "    purchase_amount=float(input(\"Enter the purchase amount:\"))\n",
    "    if (purchase_amount < 0):\n",
    "        print(\"\\nIncorrect purchase amount. Try again.\")\n",
    "        continue\n",
    "    sales_tax=get_sales_tax(purchase_amount)\n",
    "    total=purchase_amount+sales_tax\n",
    "    print(f\"\\nCustomer:\\t{customer_name}\\nPurchase:\\t${purchase_amount:.2f}\")\n",
    "    print(f\"Sales Tax:\\t${sales_tax:.2f}\\nTotal:\\t\\t${total:.2f}\")\n",
    "    again=input(\"\\nEnter more numbers? y or n: \")\n",
    "print(f\"\\nThank you for your purchase!\")"
   ]
  },
  {
   "cell_type": "markdown",
   "id": "8e0b5f9d",
   "metadata": {},
   "source": [
    "# For Loop"
   ]
  },
  {
   "cell_type": "raw",
   "id": "3a54d888",
   "metadata": {},
   "source": [
    "BEGIN\n",
    "Set sum = 0\n",
    "LOOP 10 times\n",
    "Prompt user for a number\n",
    "Add the number to sum\n",
    "ENDLOOP\n",
    "avg = sum / 10\n",
    "Display avg to user\n",
    "END"
   ]
  },
  {
   "cell_type": "code",
   "execution_count": 3,
   "id": "0da5a0b1",
   "metadata": {},
   "outputs": [
    {
     "name": "stdout",
     "output_type": "stream",
     "text": [
      "Enter score number 1: 29\n",
      "Enter score number 2: 27\n",
      "Enter score number 3: 27\n",
      "Enter score number 4: 25\n",
      "Enter score number 5: 27\n",
      "Enter score number 6: 28\n",
      "Enter score number 7: 25\n",
      "Enter score number 8: 27\n",
      "Enter score number 9: 28\n",
      "Enter score number 10: 27\n",
      "The average score is 27.00.\n"
     ]
    }
   ],
   "source": [
    "sum = 0\n",
    "for i in range(10):\n",
    "    score_number = i+1\n",
    "    score = int(input(f\"Enter score number {score_number}: \"))\n",
    "    sum=sum+score\n",
    "avg=sum/10\n",
    "print(f\"The average score is {avg:.2f}.\")\n",
    "    "
   ]
  },
  {
   "cell_type": "code",
   "execution_count": 4,
   "id": "6302311a",
   "metadata": {},
   "outputs": [
    {
     "name": "stdout",
     "output_type": "stream",
     "text": [
      "Enter score number 1: 29\n",
      "Enter score number 2: 27\n",
      "Enter score number 3: 27\n",
      "Enter score number 4: 27\n",
      "The average score is 27.50.\n"
     ]
    }
   ],
   "source": [
    "#toefl scores\n",
    "sum = 0\n",
    "for i in range(4):\n",
    "    score_number = i+1\n",
    "    score = int(input(f\"Enter score number {score_number}: \"))\n",
    "    sum=sum+score\n",
    "avg=sum/4\n",
    "print(f\"The average score is {avg:.2f}.\")"
   ]
  },
  {
   "cell_type": "markdown",
   "id": "66d33f4a",
   "metadata": {},
   "source": [
    "# IA Tests "
   ]
  },
  {
   "cell_type": "code",
   "execution_count": 5,
   "id": "b20345e1",
   "metadata": {},
   "outputs": [
    {
     "name": "stdout",
     "output_type": "stream",
     "text": [
      "Enter the length of the surface in feet: 50\n",
      "Enter the width of the surface in feet: 22\n",
      "Enter the amount of rainfall in inches: 3\n",
      "The runoff in gallons is: 2057.00 gallons\n"
     ]
    }
   ],
   "source": [
    "#ChatGPT\n",
    "def calculate_runoff(length_feet, width_feet, rainfall_inches):\n",
    "    gallons_per_cubic_foot = 7.48\n",
    "    inches_to_feet = 12\n",
    "    \n",
    "    area_square_feet = length_feet * width_feet\n",
    "    rainfall_feet = rainfall_inches / inches_to_feet\n",
    "    \n",
    "    runoff_gallons = (area_square_feet * rainfall_feet) * gallons_per_cubic_foot\n",
    "    return runoff_gallons\n",
    "\n",
    "def main():\n",
    "    length = float(input(\"Enter the length of the surface in feet: \"))\n",
    "    width = float(input(\"Enter the width of the surface in feet: \"))\n",
    "    rainfall = float(input(\"Enter the amount of rainfall in inches: \"))\n",
    "\n",
    "    runoff = calculate_runoff(length, width, rainfall)\n",
    "    print(f\"The runoff in gallons is: {runoff:.2f} gallons\")\n",
    "\n",
    "if __name__ == \"__main__\":\n",
    "    main()\n"
   ]
  },
  {
   "cell_type": "code",
   "execution_count": null,
   "id": "64c5a9b1",
   "metadata": {},
   "outputs": [],
   "source": [
    "# Simple example of importing a program that you write\n",
    "# as a module and using a function from that program\n",
    "\n",
    "import fixed_GPT_code as GPT\n",
    "\n",
    "length = 50\n",
    "width = 20\n",
    "rain = 12\n",
    "\n",
    "gallons = GPT.calculate_runoff(length, width, rain)\n",
    "\n",
    "print(length, width, rain, \"=\", gallons)"
   ]
  }
 ],
 "metadata": {
  "kernelspec": {
   "display_name": "Python 3 (ipykernel)",
   "language": "python",
   "name": "python3"
  },
  "language_info": {
   "codemirror_mode": {
    "name": "ipython",
    "version": 3
   },
   "file_extension": ".py",
   "mimetype": "text/x-python",
   "name": "python",
   "nbconvert_exporter": "python",
   "pygments_lexer": "ipython3",
   "version": "3.10.9"
  }
 },
 "nbformat": 4,
 "nbformat_minor": 5
}
