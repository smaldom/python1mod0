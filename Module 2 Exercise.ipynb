{
 "cells": [
  {
   "cell_type": "markdown",
   "metadata": {},
   "source": [
    "## Exercises\n",
    "### Write the pseudocode for these problems. \n",
    "\n",
    "#### Define the problem by constructing an IPO diagram showing input, output, and processing steps\n",
    "Ask yourself\n",
    "- What control structures (sequence, selection and repetition) are required?\n",
    "- What variables are required?\n",
    "\n",
    "\n",
    "    "
   ]
  },
  {
   "cell_type": "markdown",
   "metadata": {},
   "source": [
    "#### 1. Find the average score\n",
    "This program prompts the user for ten exam scores, calculates the average score and displays the average to the user. The average score is calculated as the sum of the scores divided by the number of scores. This is the easiest problem in this exercise because you did something similar to this during classwork"
   ]
  },
  {
   "cell_type": "raw",
   "metadata": {},
   "source": []
  },
  {
   "cell_type": "markdown",
   "metadata": {},
   "source": [
    "#### 2. How much water runs off a roof in a rain storm?\n",
    "To calculate the runoff from any given rainfall: \n",
    "- Get the length and width of the roof and convert the dimensions to inches. Get the number of inches of rainfall.\n",
    "- Multiply the roof dimensions in inches by the number of inches of rainfall to calculate the cubic inches of water that will run off the roof.\n",
    "- Divide the number of cubic inches of water by 231 to get the number of gallons that will runoff.\n",
    "- Display the result."
   ]
  },
  {
   "cell_type": "raw",
   "metadata": {},
   "source": []
  },
  {
   "cell_type": "markdown",
   "metadata": {},
   "source": [
    "#### 3. Process customer record\n",
    "This program gets the customer name, purchase amount and tax code. The tax code must be one of the following numeric codes:\n",
    "- 0 tax exempt (0%)\n",
    "- 1 state sales tax only (3%)\n",
    "- 2 federal and state sales tax (5%)\n",
    "- 3 special sales tax (7%) \n",
    "\n",
    "Select the sales tax percentage based on the tax code the user entered. Compute the sales tax amount using the tax percentage and the purchase amount. Add the sales tax and the purchase amount to clculate the total amount due. Display the customer’s name, purchase amount, sales tax and total amount due."
   ]
  },
  {
   "cell_type": "raw",
   "metadata": {},
   "source": []
  }
 ],
 "metadata": {
  "kernelspec": {
   "display_name": "Python 3 (ipykernel)",
   "language": "python",
   "name": "python3"
  },
  "language_info": {
   "codemirror_mode": {
    "name": "ipython",
    "version": 3
   },
   "file_extension": ".py",
   "mimetype": "text/x-python",
   "name": "python",
   "nbconvert_exporter": "python",
   "pygments_lexer": "ipython3",
   "version": "3.9.12"
  }
 },
 "nbformat": 4,
 "nbformat_minor": 2
}
