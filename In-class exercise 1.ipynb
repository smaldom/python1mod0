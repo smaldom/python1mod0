{
 "cells": [
  {
   "cell_type": "code",
   "execution_count": 1,
   "id": "888014c6",
   "metadata": {},
   "outputs": [
    {
     "name": "stdout",
     "output_type": "stream",
     "text": [
      "Enter 8 binary digits: 01010101\n",
      "01010101 has a decimal value of 85\n"
     ]
    }
   ],
   "source": [
    "binary_number = input(\"Enter 8 binary digits: \")\n",
    "decimal_value = int(binary_number, 2)\n",
    "print(binary_number, \"has a decimal value of\",  decimal_value)"
   ]
  },
  {
   "cell_type": "code",
   "execution_count": null,
   "id": "ab69d84c",
   "metadata": {},
   "outputs": [],
   "source": []
  }
 ],
 "metadata": {
  "kernelspec": {
   "display_name": "Python 3 (ipykernel)",
   "language": "python",
   "name": "python3"
  },
  "language_info": {
   "codemirror_mode": {
    "name": "ipython",
    "version": 3
   },
   "file_extension": ".py",
   "mimetype": "text/x-python",
   "name": "python",
   "nbconvert_exporter": "python",
   "pygments_lexer": "ipython3",
   "version": "3.10.9"
  }
 },
 "nbformat": 4,
 "nbformat_minor": 5
}
