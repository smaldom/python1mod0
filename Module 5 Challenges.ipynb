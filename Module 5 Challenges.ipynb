{
 "cells": [
  {
   "cell_type": "markdown",
   "id": "4e1eb849",
   "metadata": {},
   "source": [
    "## Challenge: Write Python programs to calculate employee pay."
   ]
  },
  {
   "cell_type": "markdown",
   "id": "7c7b5792",
   "metadata": {},
   "source": [
    "### Challenge 1: Use if/elif/else"
   ]
  },
  {
   "cell_type": "raw",
   "id": "6d9bbb43",
   "metadata": {},
   "source": [
    "BEGIN\n",
    "\n",
    "Prompt user for employee number\n",
    "Get employee number\n",
    "Prompt user for payrate\n",
    "Get payrate\n",
    "Prompt user for hours worked\n",
    "Get hours worked\n",
    "\n",
    "IF hours worked is more than 60 THEN\n",
    "    Prompt user to enter correct number of hours worked in a week\n",
    "ELSE IF payrate is more than 25 THEN\n",
    "    Prompt user to enter correct pay rate\n",
    "ELSE\n",
    "    IF hours_worked is greater than 35 hours THEN\n",
    "        overtime_hours = hour worked - 35\n",
    "        overtime_pay = payrate x 1.5 x overtime_hours\n",
    "        regular_hours = 35\n",
    "    ELSE\n",
    "        overtime_hours = 0\n",
    "        overtime_pay = 0\n",
    "        regular_hours = hours_worked\n",
    "    ENDIF\n",
    "\n",
    "    regular_pay = regular_hours x payrate\n",
    "    weekly_pay = regular_pay + overtime_pay \n",
    "    Display employee number, hourly_rate, hours_worked and weekly_pay    \n",
    "ENDIF\n",
    "\n",
    "END"
   ]
  },
  {
   "cell_type": "code",
   "execution_count": 1,
   "id": "01fbd9a4",
   "metadata": {},
   "outputs": [],
   "source": [
    "# Using the pseudocode shown above, write a Python program to calculate employees's pay"
   ]
  },
  {
   "cell_type": "code",
   "execution_count": 3,
   "id": "c3ef6270",
   "metadata": {},
   "outputs": [
    {
     "name": "stdout",
     "output_type": "stream",
     "text": [
      "Enter your employee number: 5431\n",
      "Enter your hourly pay: 25\n",
      "Enter the number of hours you worked: 45\n"
     ]
    },
    {
     "ename": "NameError",
     "evalue": "name 'weekly_pay' is not defined",
     "output_type": "error",
     "traceback": [
      "\u001b[1;31m---------------------------------------------------------------------------\u001b[0m",
      "\u001b[1;31mNameError\u001b[0m                                 Traceback (most recent call last)",
      "Cell \u001b[1;32mIn[3], line 17\u001b[0m\n\u001b[0;32m     14\u001b[0m regular_pay\u001b[38;5;241m=\u001b[39mregular_hours\u001b[38;5;241m*\u001b[39mpayrate\n\u001b[0;32m     15\u001b[0m weeekly_pay\u001b[38;5;241m=\u001b[39mregular_pay \u001b[38;5;241m+\u001b[39m overtime_pay\n\u001b[1;32m---> 17\u001b[0m \u001b[38;5;28mprint\u001b[39m(\u001b[38;5;124mf\u001b[39m\u001b[38;5;124m\"\u001b[39m\u001b[38;5;130;01m\\n\u001b[39;00m\u001b[38;5;124mEmployee number:\u001b[39m\u001b[38;5;130;01m\\t\u001b[39;00m\u001b[38;5;132;01m{\u001b[39;00memployee\u001b[38;5;132;01m}\u001b[39;00m\u001b[38;5;130;01m\\n\u001b[39;00m\u001b[38;5;124mHourly rate:\u001b[39m\u001b[38;5;130;01m\\t\u001b[39;00m\u001b[38;5;132;01m{\u001b[39;00mpayrate\u001b[38;5;132;01m}\u001b[39;00m\u001b[38;5;130;01m\\n\u001b[39;00m\u001b[38;5;124mHours worked:\u001b[39m\u001b[38;5;130;01m\\t\u001b[39;00m\u001b[38;5;132;01m{\u001b[39;00mhours\u001b[38;5;132;01m}\u001b[39;00m\u001b[38;5;130;01m\\n\u001b[39;00m\u001b[38;5;124mWeekly pay:\u001b[39m\u001b[38;5;130;01m\\t\u001b[39;00m\u001b[38;5;132;01m{\u001b[39;00mweekly_pay\u001b[38;5;132;01m}\u001b[39;00m\u001b[38;5;124m\"\u001b[39m)\n\u001b[0;32m     18\u001b[0m \u001b[38;5;28mprint\u001b[39m(\u001b[38;5;124m\"\u001b[39m\u001b[38;5;124mThank you!\u001b[39m\u001b[38;5;124m\"\u001b[39m)\n",
      "\u001b[1;31mNameError\u001b[0m: name 'weekly_pay' is not defined"
     ]
    }
   ],
   "source": [
    "\n",
    "employee = int(input(\"Enter your employee number: \"))\n",
    "payrate = float(input(\"Enter your hourly pay: \"))\n",
    "if (payrate > 25):\n",
    "    print(\"\\nIncorrect hourly pay. Please try again.\")\n",
    "    \n",
    "hours = float(input(\"Enter the number of hours you worked: \"))\n",
    "if (hours > 60):\n",
    "    print(\"\\nIncorrect number of hours. Please try again.\")\n",
    "    \n",
    "\n",
    "overtime_hours= hours - 35\n",
    "overtime_pay=payrate*1.5*overtime_hours\n",
    "regular_hours=35\n",
    "regular_pay=regular_hours*payrate\n",
    "weeekly_pay=regular_pay + overtime_pay\n",
    "\n",
    "print(f\"\\nEmployee number:\\t{employee}\\nHourly rate:\\t{payrate}\\nHours worked:\\t{hours}\\nWeekly pay:\\t{weekly_pay}\")\n",
    "print(\"Thank you!\")"
   ]
  },
  {
   "cell_type": "markdown",
   "id": "17b77c35",
   "metadata": {},
   "source": [
    "### Challenge 2: Use Repetition"
   ]
  },
  {
   "cell_type": "code",
   "execution_count": null,
   "id": "b0ce63ce",
   "metadata": {},
   "outputs": [],
   "source": [
    "# Rewrite the program from challenge 1 to allow the user to correct hours worked and pay rate"
   ]
  }
 ],
 "metadata": {
  "kernelspec": {
   "display_name": "Python 3 (ipykernel)",
   "language": "python",
   "name": "python3"
  },
  "language_info": {
   "codemirror_mode": {
    "name": "ipython",
    "version": 3
   },
   "file_extension": ".py",
   "mimetype": "text/x-python",
   "name": "python",
   "nbconvert_exporter": "python",
   "pygments_lexer": "ipython3",
   "version": "3.10.9"
  }
 },
 "nbformat": 4,
 "nbformat_minor": 5
}
