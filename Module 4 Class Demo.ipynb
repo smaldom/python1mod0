{
 "cells": [
  {
   "cell_type": "code",
   "execution_count": null,
   "metadata": {},
   "outputs": [],
   "source": [
    "# input() and print() are the input and output functions"
   ]
  },
  {
   "cell_type": "code",
   "execution_count": 9,
   "metadata": {},
   "outputs": [
    {
     "name": "stdout",
     "output_type": "stream",
     "text": [
      "What's your name? Steph\n"
     ]
    }
   ],
   "source": [
    "answer = input(\"What's your name? \")"
   ]
  },
  {
   "cell_type": "code",
   "execution_count": 10,
   "metadata": {},
   "outputs": [
    {
     "name": "stdout",
     "output_type": "stream",
     "text": [
      "Steph\n"
     ]
    }
   ],
   "source": [
    "print(answer)"
   ]
  },
  {
   "cell_type": "code",
   "execution_count": 11,
   "metadata": {},
   "outputs": [
    {
     "name": "stdout",
     "output_type": "stream",
     "text": [
      "What's your name?\n",
      "Marie\n"
     ]
    }
   ],
   "source": [
    "print(\"What's your name?\")\n",
    "answer = input()"
   ]
  },
  {
   "cell_type": "code",
   "execution_count": 12,
   "metadata": {},
   "outputs": [
    {
     "name": "stdout",
     "output_type": "stream",
     "text": [
      "What's your name?\n",
      "->Evelyn\n"
     ]
    }
   ],
   "source": [
    "prompt = \"->\"\n",
    "print(\"What's your name?\")\n",
    "answer = input(prompt)"
   ]
  },
  {
   "cell_type": "code",
   "execution_count": 13,
   "metadata": {},
   "outputs": [
    {
     "name": "stdout",
     "output_type": "stream",
     "text": [
      "What's your name?***Dan\n"
     ]
    }
   ],
   "source": [
    "print(\"What's your name?\", end='***')\n",
    "answer = input()"
   ]
  },
  {
   "cell_type": "code",
   "execution_count": 14,
   "metadata": {},
   "outputs": [
    {
     "name": "stdout",
     "output_type": "stream",
     "text": [
      "What's your name? Jin\n"
     ]
    }
   ],
   "source": [
    "print(\"What's your name?\", end=' ')\n",
    "answer = input()"
   ]
  },
  {
   "cell_type": "code",
   "execution_count": null,
   "metadata": {},
   "outputs": [],
   "source": []
  },
  {
   "cell_type": "code",
   "execution_count": null,
   "metadata": {},
   "outputs": [],
   "source": [
    "# data type conversion, referred to as casting"
   ]
  },
  {
   "cell_type": "code",
   "execution_count": 1,
   "metadata": {},
   "outputs": [
    {
     "name": "stdout",
     "output_type": "stream",
     "text": [
      "What's today's temperature? 45\n"
     ]
    }
   ],
   "source": [
    "print(\"What's today's temperature?\", end=' ')\n",
    "today = input()   # enter an integer"
   ]
  },
  {
   "cell_type": "code",
   "execution_count": 2,
   "metadata": {},
   "outputs": [
    {
     "name": "stdout",
     "output_type": "stream",
     "text": [
      "What's yesterday's temperature? 55\n"
     ]
    }
   ],
   "source": [
    "print(\"What's yesterday's temperature?\", end=' ')\n",
    "yesterday = input()  # enter a float"
   ]
  },
  {
   "cell_type": "code",
   "execution_count": 3,
   "metadata": {},
   "outputs": [
    {
     "ename": "TypeError",
     "evalue": "unsupported operand type(s) for -: 'str' and 'str'",
     "output_type": "error",
     "traceback": [
      "\u001b[1;31m---------------------------------------------------------------------------\u001b[0m",
      "\u001b[1;31mTypeError\u001b[0m                                 Traceback (most recent call last)",
      "Cell \u001b[1;32mIn[3], line 1\u001b[0m\n\u001b[1;32m----> 1\u001b[0m \u001b[38;5;28mprint\u001b[39m(\u001b[38;5;124mf\u001b[39m\u001b[38;5;124m\"\u001b[39m\u001b[38;5;124mTemperature difference is \u001b[39m\u001b[38;5;132;01m{\u001b[39;00mtoday \u001b[38;5;241m-\u001b[39m yesterday\u001b[38;5;132;01m}\u001b[39;00m\u001b[38;5;124m\"\u001b[39m)\n",
      "\u001b[1;31mTypeError\u001b[0m: unsupported operand type(s) for -: 'str' and 'str'"
     ]
    }
   ],
   "source": [
    "print(f\"Temperature difference is {today - yesterday}\") # read and understand the error message"
   ]
  },
  {
   "cell_type": "code",
   "execution_count": 4,
   "metadata": {},
   "outputs": [
    {
     "name": "stdout",
     "output_type": "stream",
     "text": [
      "Temperature difference is -10.0\n"
     ]
    }
   ],
   "source": [
    "itoday = int(today)\n",
    "iyesterday = float(yesterday)\n",
    "print(f\"Temperature difference is {round(itoday - iyesterday, 2)}\")"
   ]
  },
  {
   "cell_type": "code",
   "execution_count": 5,
   "metadata": {},
   "outputs": [
    {
     "name": "stdout",
     "output_type": "stream",
     "text": [
      "What's yesterday's temperature? 58\n",
      "58\n",
      "58.0\n"
     ]
    }
   ],
   "source": [
    "print(\"What's yesterday's temperature?\", end=' ')\n",
    "yesterday = input()\n",
    "iyesterday = float(yesterday)\n",
    "print(yesterday)\n",
    "print(iyesterday)"
   ]
  },
  {
   "cell_type": "code",
   "execution_count": 6,
   "metadata": {},
   "outputs": [
    {
     "name": "stdout",
     "output_type": "stream",
     "text": [
      "How many hours did you exercise this week? 2\n",
      "How many hours did you exercise last week? 4\n",
      "Hour difference is -2.0\n"
     ]
    }
   ],
   "source": [
    "print(\"How many hours did you exercise this week?\", end=' ')\n",
    "this_week = float(input())\n",
    "print(\"How many hours did you exercise last week?\", end=' ')\n",
    "last_week = float(input())\n",
    "print(f\"Hour difference is {this_week - last_week}\")"
   ]
  },
  {
   "cell_type": "code",
   "execution_count": null,
   "metadata": {},
   "outputs": [],
   "source": [
    "# built-in functions"
   ]
  },
  {
   "cell_type": "code",
   "execution_count": 7,
   "metadata": {},
   "outputs": [
    {
     "data": {
      "text/plain": [
       "3"
      ]
     },
     "execution_count": 7,
     "metadata": {},
     "output_type": "execute_result"
    }
   ],
   "source": [
    "round(3.1415)"
   ]
  },
  {
   "cell_type": "code",
   "execution_count": 8,
   "metadata": {},
   "outputs": [
    {
     "data": {
      "text/plain": [
       "3.142"
      ]
     },
     "execution_count": 8,
     "metadata": {},
     "output_type": "execute_result"
    }
   ],
   "source": [
    "round(3.1415, 3)"
   ]
  },
  {
   "cell_type": "code",
   "execution_count": 9,
   "metadata": {},
   "outputs": [
    {
     "data": {
      "text/plain": [
       "3.123"
      ]
     },
     "execution_count": 9,
     "metadata": {},
     "output_type": "execute_result"
    }
   ],
   "source": [
    "round(3.12349505, 3)"
   ]
  },
  {
   "cell_type": "code",
   "execution_count": 10,
   "metadata": {},
   "outputs": [
    {
     "data": {
      "text/plain": [
       "3.124"
      ]
     },
     "execution_count": 10,
     "metadata": {},
     "output_type": "execute_result"
    }
   ],
   "source": [
    "round(3.12350505, 3)"
   ]
  },
  {
   "cell_type": "code",
   "execution_count": 19,
   "metadata": {},
   "outputs": [],
   "source": [
    "#taking a library/class called random and renaming it to rand\n",
    "import random as rand"
   ]
  },
  {
   "cell_type": "code",
   "execution_count": 20,
   "metadata": {},
   "outputs": [
    {
     "name": "stdout",
     "output_type": "stream",
     "text": [
      "A random number between 0 and 1 is 0.4754036794729124\n"
     ]
    }
   ],
   "source": [
    "print (\"A random number between 0 and 1 is \", end=\"\")\n",
    "print(rand.random())\n",
    "#rand.random() will always be a number between 0 and 1, unless you use rand.randint.\n",
    "\n"
   ]
  },
  {
   "cell_type": "code",
   "execution_count": 21,
   "metadata": {},
   "outputs": [
    {
     "name": "stdout",
     "output_type": "stream",
     "text": [
      "0.6935103326361006\n"
     ]
    }
   ],
   "source": [
    "print(rand.random())"
   ]
  },
  {
   "cell_type": "code",
   "execution_count": 22,
   "metadata": {},
   "outputs": [
    {
     "name": "stdout",
     "output_type": "stream",
     "text": [
      "0.5453339364709582\n"
     ]
    }
   ],
   "source": [
    "print(rand.random())"
   ]
  },
  {
   "cell_type": "code",
   "execution_count": 23,
   "metadata": {},
   "outputs": [
    {
     "name": "stdout",
     "output_type": "stream",
     "text": [
      "7\n"
     ]
    }
   ],
   "source": [
    "#getting a random number from 1 to 10\n",
    "x = rand.randint(1,10)\n",
    "print(x)"
   ]
  },
  {
   "cell_type": "code",
   "execution_count": 24,
   "metadata": {},
   "outputs": [
    {
     "name": "stdout",
     "output_type": "stream",
     "text": [
      "6\n"
     ]
    }
   ],
   "source": [
    "print(rand.randint(1, 10))"
   ]
  },
  {
   "cell_type": "code",
   "execution_count": 25,
   "metadata": {},
   "outputs": [
    {
     "name": "stdout",
     "output_type": "stream",
     "text": [
      "5\n",
      "1\n",
      "4\n",
      "3\n",
      "1\n",
      "7\n",
      "1\n",
      "1\n",
      "8\n"
     ]
    }
   ],
   "source": [
    "print(rand.randint(1, 10))\n",
    "print(rand.randint(1, 10))\n",
    "print(rand.randint(1, 10))\n",
    "print(rand.randint(1, 10))\n",
    "print(rand.randint(1, 10))\n",
    "print(rand.randint(1, 10))\n",
    "print(rand.randint(1, 10))\n",
    "print(rand.randint(1, 10))\n",
    "print(rand.randint(1, 10))"
   ]
  },
  {
   "cell_type": "code",
   "execution_count": 26,
   "metadata": {},
   "outputs": [
    {
     "name": "stdout",
     "output_type": "stream",
     "text": [
      "x= 3\n",
      "3\n",
      "1\n",
      "3\n",
      "1\n",
      "3\n",
      "3\n"
     ]
    }
   ],
   "source": [
    "x = rand.randint(1, 10)\n",
    "print(f\"x= {x}\")\n",
    "print(rand.randint(1, x))\n",
    "print(rand.randint(1, x))\n",
    "print(rand.randint(1, x))\n",
    "print(rand.randint(1, x))\n",
    "print(rand.randint(1, x))\n",
    "print(rand.randint(1, x))"
   ]
  },
  {
   "cell_type": "code",
   "execution_count": null,
   "metadata": {},
   "outputs": [],
   "source": [
    "# Create Function"
   ]
  },
  {
   "cell_type": "code",
   "execution_count": 28,
   "metadata": {},
   "outputs": [],
   "source": [
    "def greetings() :\n",
    "    print(\"Hello, Python\")\n",
    "    print(\"I am here!\")    "
   ]
  },
  {
   "cell_type": "code",
   "execution_count": 29,
   "metadata": {},
   "outputs": [
    {
     "name": "stdout",
     "output_type": "stream",
     "text": [
      "Hello, Python\n",
      "I am here!\n"
     ]
    }
   ],
   "source": [
    "greetings()"
   ]
  },
  {
   "cell_type": "code",
   "execution_count": 32,
   "metadata": {},
   "outputs": [
    {
     "name": "stdout",
     "output_type": "stream",
     "text": [
      "Hello, Python\n",
      "I am here!\n",
      "Say that again.\n",
      "Hello, Python\n",
      "I am here!\n"
     ]
    }
   ],
   "source": [
    "greetings()\n",
    "print(\"Say that again.\")\n",
    "greetings()"
   ]
  },
  {
   "cell_type": "code",
   "execution_count": 34,
   "metadata": {},
   "outputs": [
    {
     "name": "stdout",
     "output_type": "stream",
     "text": [
      "goodgoodgood\n"
     ]
    }
   ],
   "source": [
    "def repeat_message (message, numb) :\n",
    "    print(f\"{message}\" * numb)\n",
    "    \n",
    "repeat_message(\"good\", 3) "
   ]
  },
  {
   "cell_type": "code",
   "execution_count": 35,
   "metadata": {},
   "outputs": [
    {
     "name": "stdout",
     "output_type": "stream",
     "text": [
      "coolcoolcoolcoolcoolcoolcoolcoolcoolcool\n"
     ]
    }
   ],
   "source": [
    "repeat_message(\"cool\", 10)"
   ]
  },
  {
   "cell_type": "code",
   "execution_count": 36,
   "metadata": {},
   "outputs": [
    {
     "name": "stdout",
     "output_type": "stream",
     "text": [
      "good good good \n",
      "fun fun \n",
      "smile smile smile smile smile \n"
     ]
    }
   ],
   "source": [
    "def repeat_message (message, numb) :\n",
    "    print(f\"{message} \" * numb)            \n",
    "    \n",
    "repeat_message(\"good\", 3) \n",
    "repeat_message(\"fun\", 2) \n",
    "repeat_message(\"smile\", 5) "
   ]
  },
  {
   "cell_type": "code",
   "execution_count": 37,
   "metadata": {},
   "outputs": [
    {
     "name": "stdout",
     "output_type": "stream",
     "text": [
      "good\n",
      "Really?\n",
      "good good good \n",
      "\n",
      "fun\n",
      "Really?\n",
      "fun fun \n",
      "\n",
      "smile\n",
      "Really?\n",
      "smile smile smile smile smile \n",
      "\n"
     ]
    }
   ],
   "source": [
    "def repeat_message (message, numb) :\n",
    "    print(message)\n",
    "    print(\"Really?\")\n",
    "    print(f\"{message} \" * numb)\n",
    "    print(\"\")\n",
    "    \n",
    "repeat_message(\"good\", 3) \n",
    "repeat_message(\"fun\", 2) \n",
    "repeat_message(\"smile\", 5) "
   ]
  },
  {
   "cell_type": "code",
   "execution_count": null,
   "metadata": {},
   "outputs": [],
   "source": [
    "# function returns\n",
    "\n",
    "def repeat_message (message, numb) :\n",
    "    retval =  f\"{message} \" * numb\n",
    "    return retval\n",
    "\n",
    "print(repeat_message(\"good\", 3)) \n",
    "print(repeat_message(\"fun\", 2)) \n",
    "print(repeat_message(\"smile\", 5)) "
   ]
  },
  {
   "cell_type": "code",
   "execution_count": null,
   "metadata": {},
   "outputs": [],
   "source": [
    "msg = repeat_message(\"cold\", 2)\n",
    "msg"
   ]
  },
  {
   "cell_type": "code",
   "execution_count": null,
   "metadata": {},
   "outputs": [],
   "source": [
    "def addition (numb1, numb2) :\n",
    "    retval =  numb1 + numb2\n",
    "    return retval\n",
    "\n",
    "x = addition(1, 2)"
   ]
  },
  {
   "cell_type": "code",
   "execution_count": null,
   "metadata": {},
   "outputs": [],
   "source": [
    "print(x)"
   ]
  },
  {
   "cell_type": "code",
   "execution_count": null,
   "metadata": {},
   "outputs": [],
   "source": [
    "def addition (numb1, numb2) :\n",
    "    retval =  numb1 + numb2\n",
    "    #return \n",
    "\n",
    "y = addition(1, 2)\n",
    "print(y)"
   ]
  },
  {
   "cell_type": "code",
   "execution_count": null,
   "metadata": {},
   "outputs": [],
   "source": [
    "def addition (numb1, numb2) :\n",
    "    retval =  numb1 + numb2\n",
    "    return retval\n",
    "\n",
    "z = addition(11, 21)\n",
    "print(z)"
   ]
  },
  {
   "cell_type": "code",
   "execution_count": null,
   "metadata": {},
   "outputs": [],
   "source": [
    "# what is going on here?\n",
    "\n",
    "def addition (numb1, numb2) :\n",
    "    retval =  numb1 + numb2\n",
    "    return retval\n",
    "\n",
    "def addition (numb1, numb2, numb3) :\n",
    "    retval =  numb1 + numb2 + numb3\n",
    "    return retval\n",
    "\n",
    "print(addition(1, 2))\n",
    "print(addition(1, 2, 3))\n",
    "\n",
    "# result?"
   ]
  },
  {
   "cell_type": "code",
   "execution_count": null,
   "metadata": {},
   "outputs": [],
   "source": [
    "# use optional argument, provide a default value using =0, in case the value is not provided.\n",
    "def addition (numb1, numb2, numb3=0) :\n",
    "    retval =  numb1 + numb2 + numb3\n",
    "    return retval\n",
    "\n",
    "print(addition(1, 2))\n",
    "print(addition(1, 2, 3))"
   ]
  },
  {
   "cell_type": "code",
   "execution_count": null,
   "metadata": {},
   "outputs": [],
   "source": []
  }
 ],
 "metadata": {
  "kernelspec": {
   "display_name": "Python 3 (ipykernel)",
   "language": "python",
   "name": "python3"
  },
  "language_info": {
   "codemirror_mode": {
    "name": "ipython",
    "version": 3
   },
   "file_extension": ".py",
   "mimetype": "text/x-python",
   "name": "python",
   "nbconvert_exporter": "python",
   "pygments_lexer": "ipython3",
   "version": "3.10.9"
  }
 },
 "nbformat": 4,
 "nbformat_minor": 4
}
