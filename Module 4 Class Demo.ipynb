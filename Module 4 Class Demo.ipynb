{
 "cells": [
  {
   "cell_type": "code",
   "execution_count": null,
   "metadata": {},
   "outputs": [],
   "source": [
    "# input() and print() are the input and output functions"
   ]
  },
  {
   "cell_type": "code",
   "execution_count": null,
   "metadata": {},
   "outputs": [],
   "source": [
    "answer = input(\"What's your name?\")"
   ]
  },
  {
   "cell_type": "code",
   "execution_count": null,
   "metadata": {},
   "outputs": [],
   "source": [
    "print(answer)"
   ]
  },
  {
   "cell_type": "code",
   "execution_count": null,
   "metadata": {},
   "outputs": [],
   "source": [
    "print(\"What's your name?\")\n",
    "answer = input()"
   ]
  },
  {
   "cell_type": "code",
   "execution_count": null,
   "metadata": {},
   "outputs": [],
   "source": [
    "prompt = \"->\"\n",
    "print(\"What's your name?\")\n",
    "answer = input(prompt)"
   ]
  },
  {
   "cell_type": "code",
   "execution_count": null,
   "metadata": {},
   "outputs": [],
   "source": [
    "print(\"What's your name?\", end='***')\n",
    "answer = input()"
   ]
  },
  {
   "cell_type": "code",
   "execution_count": null,
   "metadata": {},
   "outputs": [],
   "source": [
    "print(\"What's your name?\", end=' ')\n",
    "answer = input()"
   ]
  },
  {
   "cell_type": "code",
   "execution_count": null,
   "metadata": {},
   "outputs": [],
   "source": []
  },
  {
   "cell_type": "code",
   "execution_count": null,
   "metadata": {},
   "outputs": [],
   "source": [
    "# data type conversion, referred to as casting"
   ]
  },
  {
   "cell_type": "code",
   "execution_count": null,
   "metadata": {},
   "outputs": [],
   "source": [
    "print(\"What's today's temperature?\", end=' ')\n",
    "today = input()   # enter an integer"
   ]
  },
  {
   "cell_type": "code",
   "execution_count": null,
   "metadata": {},
   "outputs": [],
   "source": [
    "print(\"What's yesterday's temperature?\", end=' ')\n",
    "yesterday = input()  # enter a float"
   ]
  },
  {
   "cell_type": "code",
   "execution_count": null,
   "metadata": {},
   "outputs": [],
   "source": [
    "print(f\"Temperature difference is {today - yesterday}\") # read and understand the error message"
   ]
  },
  {
   "cell_type": "code",
   "execution_count": null,
   "metadata": {},
   "outputs": [],
   "source": [
    "itoday = int(today)\n",
    "iyesterday = float(yesterday)\n",
    "print(f\"Temperature difference is {round(itoday - iyesterday, 2)}\")"
   ]
  },
  {
   "cell_type": "code",
   "execution_count": null,
   "metadata": {},
   "outputs": [],
   "source": [
    "print(\"What's yesterday's temperature?\", end=' ')\n",
    "yesterday = input()\n",
    "iyesterday = float(yesterday)\n",
    "print(yesterday)\n",
    "print(iyesterday)"
   ]
  },
  {
   "cell_type": "code",
   "execution_count": null,
   "metadata": {},
   "outputs": [],
   "source": [
    "print(\"How many hours did you exercise this week?\", end=' ')\n",
    "this_week = float(input())\n",
    "print(\"How many hours did you exercise last week?\", end=' ')\n",
    "last_week = float(input())\n",
    "print(f\"Hour difference is {this_week - last_week}\")"
   ]
  },
  {
   "cell_type": "code",
   "execution_count": null,
   "metadata": {},
   "outputs": [],
   "source": [
    "# built-in functions"
   ]
  },
  {
   "cell_type": "code",
   "execution_count": null,
   "metadata": {},
   "outputs": [],
   "source": [
    "round(3.1415)"
   ]
  },
  {
   "cell_type": "code",
   "execution_count": null,
   "metadata": {},
   "outputs": [],
   "source": [
    "round(3.1415, 3)"
   ]
  },
  {
   "cell_type": "code",
   "execution_count": null,
   "metadata": {},
   "outputs": [],
   "source": [
    "round(3.12349505, 3)"
   ]
  },
  {
   "cell_type": "code",
   "execution_count": null,
   "metadata": {},
   "outputs": [],
   "source": [
    "round(3.12350505, 3)"
   ]
  },
  {
   "cell_type": "code",
   "execution_count": null,
   "metadata": {},
   "outputs": [],
   "source": [
    "#taking a library/class called random and renaming it to rand\n",
    "import random as rand"
   ]
  },
  {
   "cell_type": "code",
   "execution_count": null,
   "metadata": {},
   "outputs": [],
   "source": [
    "print (\"A random number between 0 and 1 is \", end=\"\")\n",
    "print(rand.random())"
   ]
  },
  {
   "cell_type": "code",
   "execution_count": null,
   "metadata": {},
   "outputs": [],
   "source": [
    "print(rand.random())"
   ]
  },
  {
   "cell_type": "code",
   "execution_count": null,
   "metadata": {},
   "outputs": [],
   "source": [
    "print(rand.random())"
   ]
  },
  {
   "cell_type": "code",
   "execution_count": null,
   "metadata": {},
   "outputs": [],
   "source": [
    "#getting a random number from 1 to 10\n",
    "x = rand.randint(1,10)\n",
    "print(x)"
   ]
  },
  {
   "cell_type": "code",
   "execution_count": null,
   "metadata": {},
   "outputs": [],
   "source": [
    "print(rand.randint(1, 10))"
   ]
  },
  {
   "cell_type": "code",
   "execution_count": null,
   "metadata": {},
   "outputs": [],
   "source": [
    "print(rand.randint(1, 10))\n",
    "print(rand.randint(1, 10))\n",
    "print(rand.randint(1, 10))\n",
    "print(rand.randint(1, 10))\n",
    "print(rand.randint(1, 10))\n",
    "print(rand.randint(1, 10))\n",
    "print(rand.randint(1, 10))\n",
    "print(rand.randint(1, 10))\n",
    "print(rand.randint(1, 10))"
   ]
  },
  {
   "cell_type": "code",
   "execution_count": null,
   "metadata": {},
   "outputs": [],
   "source": [
    "x = rand.randint(1, 10)\n",
    "print(f\"x= {x}\")\n",
    "print(rand.randint(1, x))\n",
    "print(rand.randint(1, x))\n",
    "print(rand.randint(1, x))\n",
    "print(rand.randint(1, x))\n",
    "print(rand.randint(1, x))\n",
    "print(rand.randint(1, x))"
   ]
  },
  {
   "cell_type": "code",
   "execution_count": null,
   "metadata": {},
   "outputs": [],
   "source": [
    "# Create Function"
   ]
  },
  {
   "cell_type": "code",
   "execution_count": null,
   "metadata": {},
   "outputs": [],
   "source": [
    "def greetings() :\n",
    "    print(\"Hello, Python\")\n",
    "    print(\"I am here!\")    "
   ]
  },
  {
   "cell_type": "code",
   "execution_count": null,
   "metadata": {},
   "outputs": [],
   "source": [
    "greetings()"
   ]
  },
  {
   "cell_type": "code",
   "execution_count": null,
   "metadata": {},
   "outputs": [],
   "source": [
    "greetings()\n",
    "print(\"Say that again.\")\n",
    "greetings()"
   ]
  },
  {
   "cell_type": "code",
   "execution_count": null,
   "metadata": {},
   "outputs": [],
   "source": [
    "def repeat_message (message, numb) :\n",
    "    print(f\"{message}\" * numb)\n",
    "    \n",
    "repeat_message(\"good\", 3) "
   ]
  },
  {
   "cell_type": "code",
   "execution_count": null,
   "metadata": {},
   "outputs": [],
   "source": [
    "repeat_message(\"cool\", 10)"
   ]
  },
  {
   "cell_type": "code",
   "execution_count": null,
   "metadata": {},
   "outputs": [],
   "source": [
    "def repeat_message (message, numb) :\n",
    "    print(f\"{message} \" * numb)            \n",
    "    \n",
    "repeat_message(\"good\", 3) \n",
    "repeat_message(\"fun\", 2) \n",
    "repeat_message(\"smile\", 5) "
   ]
  },
  {
   "cell_type": "code",
   "execution_count": null,
   "metadata": {},
   "outputs": [],
   "source": [
    "def repeat_message (message, numb) :\n",
    "    print(message)\n",
    "    print(\"Really?\")\n",
    "    print(f\"{message} \" * numb)\n",
    "    print(\"\")\n",
    "    \n",
    "repeat_message(\"good\", 3) \n",
    "repeat_message(\"fun\", 2) \n",
    "repeat_message(\"smile\", 5) "
   ]
  },
  {
   "cell_type": "code",
   "execution_count": null,
   "metadata": {},
   "outputs": [],
   "source": [
    "# function returns\n",
    "\n",
    "def repeat_message (message, numb) :\n",
    "    retval =  f\"{message} \" * numb\n",
    "    return retval\n",
    "\n",
    "print(repeat_message(\"good\", 3)) \n",
    "print(repeat_message(\"fun\", 2)) \n",
    "print(repeat_message(\"smile\", 5)) "
   ]
  },
  {
   "cell_type": "code",
   "execution_count": null,
   "metadata": {},
   "outputs": [],
   "source": [
    "msg = repeat_message(\"cold\", 2)\n",
    "msg"
   ]
  },
  {
   "cell_type": "code",
   "execution_count": null,
   "metadata": {},
   "outputs": [],
   "source": [
    "def addition (numb1, numb2) :\n",
    "    retval =  numb1 + numb2\n",
    "    return retval\n",
    "\n",
    "x = addition(1, 2)"
   ]
  },
  {
   "cell_type": "code",
   "execution_count": null,
   "metadata": {},
   "outputs": [],
   "source": [
    "print(x)"
   ]
  },
  {
   "cell_type": "code",
   "execution_count": null,
   "metadata": {},
   "outputs": [],
   "source": [
    "def addition (numb1, numb2) :\n",
    "    retval =  numb1 + numb2\n",
    "    #return \n",
    "\n",
    "y = addition(1, 2)\n",
    "print(y)"
   ]
  },
  {
   "cell_type": "code",
   "execution_count": null,
   "metadata": {},
   "outputs": [],
   "source": [
    "def addition (numb1, numb2) :\n",
    "    retval =  numb1 + numb2\n",
    "    return retval\n",
    "\n",
    "z = addition(11, 21)\n",
    "print(z)"
   ]
  },
  {
   "cell_type": "code",
   "execution_count": null,
   "metadata": {},
   "outputs": [],
   "source": [
    "# what is going on here?\n",
    "\n",
    "def addition (numb1, numb2) :\n",
    "    retval =  numb1 + numb2\n",
    "    return retval\n",
    "\n",
    "def addition (numb1, numb2, numb3) :\n",
    "    retval =  numb1 + numb2 + numb3\n",
    "    return retval\n",
    "\n",
    "print(addition(1, 2))\n",
    "print(addition(1, 2, 3))\n",
    "\n",
    "# result?"
   ]
  },
  {
   "cell_type": "code",
   "execution_count": null,
   "metadata": {},
   "outputs": [],
   "source": [
    "# use optional argument\n",
    "def addition (numb1, numb2, numb3=0) :\n",
    "    retval =  numb1 + numb2 + numb3\n",
    "    return retval\n",
    "\n",
    "print(addition(1, 2))\n",
    "print(addition(1, 2, 3))"
   ]
  },
  {
   "cell_type": "code",
   "execution_count": null,
   "metadata": {},
   "outputs": [],
   "source": []
  }
 ],
 "metadata": {
  "kernelspec": {
   "display_name": "Python 3 (ipykernel)",
   "language": "python",
   "name": "python3"
  },
  "language_info": {
   "codemirror_mode": {
    "name": "ipython",
    "version": 3
   },
   "file_extension": ".py",
   "mimetype": "text/x-python",
   "name": "python",
   "nbconvert_exporter": "python",
   "pygments_lexer": "ipython3",
   "version": "3.10.9"
  }
 },
 "nbformat": 4,
 "nbformat_minor": 4
}
