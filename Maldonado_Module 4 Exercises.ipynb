{
 "cells": [
  {
   "cell_type": "markdown",
   "metadata": {},
   "source": [
    "### Exercise 1: \n",
    "Ask for a birthday, a favorite gift, and their dream job. Then, display summerized information in a formated string."
   ]
  },
  {
   "cell_type": "code",
   "execution_count": 5,
   "metadata": {},
   "outputs": [
    {
     "name": "stdout",
     "output_type": "stream",
     "text": [
      "When is your birthday? March 16\n",
      "What is your favorite gift? money\n",
      "What is your dream job? dog owner\n",
      "Your birthday is on March 16, your favorite gift is money and your dream job is dog owner.\n"
     ]
    }
   ],
   "source": [
    "# ask for a birthday\n",
    "birthday = input(\"When is your birthday? \")\n",
    "\n",
    "# ask for a favorite gift\n",
    "gift = input(\"What is your favorite gift? \")\n",
    "\n",
    "# ask for the dream job\n",
    "job = input(\"What is your dream job? \")\n",
    "\n",
    "# display the information using a formatted string\n",
    "#summary = \"Your birthday is on \" + str(birthday)\n",
    "#summary = summary + \", your favorite gift is \" + str(gift)\n",
    "#summary = summary + \" and your dream job is \" + str(job) + \".\"\n",
    "\n",
    "print(f\"Your birthday is on {birthday}\", end= \", \")\n",
    "print(f\"your favorite gift is {gift} and your dream job is {job}.\")"
   ]
  },
  {
   "cell_type": "markdown",
   "metadata": {},
   "source": [
    "### Exercise 2: \n",
    "Ask for a favorite song, favorite movie, and favorite book.\n",
    "Use print() statements to ask the questions. Make sure the user types the answer on the same line as the question.\n",
    "\n",
    "Display summerized string."
   ]
  },
  {
   "cell_type": "code",
   "execution_count": 1,
   "metadata": {},
   "outputs": [
    {
     "name": "stdout",
     "output_type": "stream",
     "text": [
      "What's your favorite song? El aguacate\n",
      "What's your favorite movie? Sounds of freedom\n",
      "What's your favorite book? Midnight Library\n",
      "Your favorite song is El aguacate, your favorite movie is Sounds of freedom and your favorite book is Midnight Library.\n"
     ]
    }
   ],
   "source": [
    "# ask for a favorite song using a print statement\n",
    "print(\"What's your favorite song?\", end=\" \")\n",
    "song = input()\n",
    "\n",
    "# ask for a favorite movie using a print statement\n",
    "print(\"What's your favorite movie?\", end=\" \")\n",
    "movie = input()\n",
    "\n",
    "# ask for a favorite book using a print statement\n",
    "print(\"What's your favorite book?\", end=\" \")\n",
    "book = input()\n",
    "\n",
    "# summerize\n",
    "print(f\"Your favorite song is {song}, your favorite movie is {movie} and your favorite book is {book}.\")\n",
    "\n"
   ]
  },
  {
   "cell_type": "markdown",
   "metadata": {},
   "source": [
    "### Exercise 3\n",
    "Create a function that concatonates two strings and prints the new sentence out. Then, ask a user to type in two strings and print out the concatonation by calling your function.\n"
   ]
  },
  {
   "cell_type": "code",
   "execution_count": 1,
   "metadata": {},
   "outputs": [],
   "source": [
    "# create a function\n",
    "def my_function(str1,str2):\n",
    "    sentence = str1 + str2\n",
    "    return sentence"
   ]
  },
  {
   "cell_type": "code",
   "execution_count": 2,
   "metadata": {},
   "outputs": [
    {
     "name": "stdout",
     "output_type": "stream",
     "text": [
      "What is your favorite movie or tv show line? Bazinga!\n",
      "What is your favorite book quote? Fear cuts deeper than swords.\n",
      "Bazinga!Fear cuts deeper than swords.\n"
     ]
    }
   ],
   "source": [
    "# get two strings from the user\n",
    "str1 = input(\"What is your favorite movie or tv show line? \")\n",
    "str2 = input(\"What is your favorite book quote? \")\n",
    "\n",
    "\n",
    "# call your function\n",
    "\n",
    "print(my_function(str1 , str2))"
   ]
  },
  {
   "cell_type": "markdown",
   "metadata": {},
   "source": [
    "### Exercise 4 - Calling a function within a function\n",
    "\n",
    "Create a function for :\n",
    "\n",
    "    adding 2 numbers, \n",
    "    subtracting 2 numbers, \n",
    "    multiplying 2 numbers, \n",
    "    dividing 2 numbers.\n",
    "\n",
    "Create a function that computes BMI using above functions \n",
    "\n",
    "    BMI = ( Weight in Pounds / ( Height in inches x Height in inches ) ) x 703\n",
    "\n",
    "\n",
    "Then, get a weight and height from a user to compute user's BMI using your functions."
   ]
  },
  {
   "cell_type": "code",
   "execution_count": 5,
   "metadata": {},
   "outputs": [],
   "source": [
    "# define a function to add two numbers\n",
    "def add(numb1, numb2):\n",
    "    addition = numb1 + numb2\n",
    "    return addition"
   ]
  },
  {
   "cell_type": "code",
   "execution_count": 6,
   "metadata": {},
   "outputs": [],
   "source": [
    "# define a function to subtract two numbers\n",
    "def subtract(numb1, numb2):\n",
    "    subtraction = numb1 - numb2\n",
    "    return subtraction"
   ]
  },
  {
   "cell_type": "code",
   "execution_count": 13,
   "metadata": {},
   "outputs": [
    {
     "name": "stdout",
     "output_type": "stream",
     "text": [
      "<function multiply at 0x00000176E0319080>\n"
     ]
    }
   ],
   "source": [
    "# define a function to multiply two numbers\n",
    "def multiply(numb1, numb2):\n",
    "    multiplication = numb1 * numb2\n",
    "    return multiplication"
   ]
  },
  {
   "cell_type": "code",
   "execution_count": 8,
   "metadata": {},
   "outputs": [],
   "source": [
    "# define a function to divide two numbers\n",
    "def divide(numb1, numb2):\n",
    "    division = numb1 / numb2\n",
    "    return division"
   ]
  },
  {
   "cell_type": "code",
   "execution_count": 11,
   "metadata": {
    "scrolled": true
   },
   "outputs": [
    {
     "name": "stdout",
     "output_type": "stream",
     "text": [
      "Enter weight: 150\n",
      "Enter height: 6\n",
      "<function bmi_function at 0x00000176E031A0C0>\n"
     ]
    }
   ],
   "source": [
    "# define a function to calculate BMI\n",
    "#    don't forget to use your functions \n",
    "#    instead of using arithematic operators\n",
    "\n",
    "def bmi_function(numb1, numb2, bmi):\n",
    "    height_total = multiply (numb2, numb2)\n",
    "    height_weight = divide (height_total, numb1)\n",
    "    bmi = multiply (height_weight, 703)\n",
    "    return bmi\n",
    "\n",
    "# get a weight from the user\n",
    "numb1 = input(\"Enter weight: \")\n",
    "\n",
    "# get a height from the user\n",
    "numb2 = input(\"Enter height: \")\n",
    "\n",
    "\n"
   ]
  },
  {
   "cell_type": "code",
   "execution_count": 5,
   "metadata": {},
   "outputs": [
    {
     "name": "stdout",
     "output_type": "stream",
     "text": [
      "Enter weight: 150\n",
      "Enter height: 6\n"
     ]
    },
    {
     "ename": "NameError",
     "evalue": "name 'bmi_function' is not defined",
     "output_type": "error",
     "traceback": [
      "\u001b[1;31m---------------------------------------------------------------------------\u001b[0m",
      "\u001b[1;31mNameError\u001b[0m                                 Traceback (most recent call last)",
      "Cell \u001b[1;32mIn[5], line 8\u001b[0m\n\u001b[0;32m      5\u001b[0m numb2 \u001b[38;5;241m=\u001b[39m \u001b[38;5;28minput\u001b[39m(\u001b[38;5;124m\"\u001b[39m\u001b[38;5;124mEnter height: \u001b[39m\u001b[38;5;124m\"\u001b[39m)\n\u001b[0;32m      7\u001b[0m \u001b[38;5;66;03m# compute BMI by calling your BMI function, and print out the result\u001b[39;00m\n\u001b[1;32m----> 8\u001b[0m bmi \u001b[38;5;241m=\u001b[39m bmi_function (numb1, numb2)\n\u001b[0;32m      9\u001b[0m \u001b[38;5;28mprint\u001b[39m(\u001b[38;5;124mf\u001b[39m\u001b[38;5;124m\"\u001b[39m\u001b[38;5;124mThe bmi is \u001b[39m\u001b[38;5;132;01m{\u001b[39;00mbmi\u001b[38;5;132;01m}\u001b[39;00m\u001b[38;5;124m\"\u001b[39m)\n",
      "\u001b[1;31mNameError\u001b[0m: name 'bmi_function' is not defined"
     ]
    }
   ],
   "source": [
    "# get a weight from the user\n",
    "numb1 = input(\"Enter weight: \")\n",
    "\n",
    "# get a height from the user\n",
    "numb2 = input(\"Enter height: \")\n",
    "\n",
    "# compute BMI by calling your BMI function, and print out the result\n",
    "bmi = bmi_function (numb1, numb2)\n",
    "print(f\"The bmi is {bmi}\")\n"
   ]
  },
  {
   "cell_type": "markdown",
   "metadata": {},
   "source": [
    "### Exercise 5\n",
    "Create a function that takes three numeric arguments and returns their average. Then, write code that gets three numbers from the user and calls your function to compute the average of those numbers."
   ]
  },
  {
   "cell_type": "code",
   "execution_count": 44,
   "metadata": {},
   "outputs": [],
   "source": [
    "# define a function that takes three arguments and returns their average\n",
    "def average (n1, n2, n3):\n",
    "    adding = int(n1 + n2 + n3)\n",
    "    dividing = adding / 3\n",
    "    return dividing\n",
    "\n"
   ]
  },
  {
   "cell_type": "code",
   "execution_count": 53,
   "metadata": {},
   "outputs": [
    {
     "name": "stdout",
     "output_type": "stream",
     "text": [
      "Write a number: 15\n",
      "Write a second number: 20\n",
      "Write a third number: 25\n",
      "Your average is 20.\n"
     ]
    }
   ],
   "source": [
    "# get three scores from a user \n",
    "n1 = int(input(\"Write a number: \"))\n",
    "\n",
    "n2 = int(input(\"Write a second number: \"))\n",
    "\n",
    "n3 = int(input(\"Write a third number: \"))\n",
    "\n",
    "\n",
    "# call your function to compute the average score\n",
    "x = average (n1, n2, n3)\n",
    "\n",
    "# print the average score\n",
    "print(f\"Your average is {x:.0f}.\")"
   ]
  },
  {
   "cell_type": "markdown",
   "metadata": {},
   "source": [
    "# Exercise 6\n",
    "Using your pseudocode for \"How much water runs off a roof in a rain storm?\" from Module 2 homework, define a Python function. Then, write a program to call your function.\n",
    "\n",
    "<i>*Which functionality make sense to modulize into a function? Use Module 2 Exercise Answers.ipynb from Canvas, if needed.</i>"
   ]
  },
  {
   "cell_type": "code",
   "execution_count": 2,
   "metadata": {},
   "outputs": [
    {
     "name": "stdout",
     "output_type": "stream",
     "text": [
      "Enter the roof length in feet: 10\n",
      "Enter the roof width in feet: 10\n",
      "Enter the number of inches of rainfall: 12\n",
      "The number of gallons of water that will run off the roof is 748.05.\n"
     ]
    }
   ],
   "source": [
    "def roof_func (in_width, in_length, in_rain):\n",
    "    in_length = ft_length * 12\n",
    "    in_width = ft_width * 12\n",
    "    cubic_in = in_length * in_width * in_rain\n",
    "    gallons = cubic_in / 231\n",
    "    return gallons\n",
    "\n",
    "\n",
    "ft_length = int(input(\"Enter the roof length in feet: \"))\n",
    "ft_width = int(input(\"Enter the roof width in feet: \"))\n",
    "in_rain = int(input(\"Enter the number of inches of rainfall: \"))\n",
    "\n",
    "gallons = roof_func (ft_length, ft_width, in_rain)\n",
    "print(f\"The number of gallons of water that will run off the roof is {gallons:.2f}.\")"
   ]
  },
  {
   "cell_type": "code",
   "execution_count": null,
   "metadata": {},
   "outputs": [],
   "source": []
  }
 ],
 "metadata": {
  "kernelspec": {
   "display_name": "Python 3 (ipykernel)",
   "language": "python",
   "name": "python3"
  },
  "language_info": {
   "codemirror_mode": {
    "name": "ipython",
    "version": 3
   },
   "file_extension": ".py",
   "mimetype": "text/x-python",
   "name": "python",
   "nbconvert_exporter": "python",
   "pygments_lexer": "ipython3",
   "version": "3.10.9"
  }
 },
 "nbformat": 4,
 "nbformat_minor": 2
}
