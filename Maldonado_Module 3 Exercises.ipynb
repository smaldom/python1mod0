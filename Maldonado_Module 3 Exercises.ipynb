{
 "cells": [
  {
   "cell_type": "markdown",
   "metadata": {},
   "source": [
    "### Exercise 1\n",
    "Use a print statement to display:\n",
    "- your name\n",
    "- your favorite number\n",
    "- your favorite subject/topic"
   ]
  },
  {
   "cell_type": "code",
   "execution_count": 6,
   "metadata": {
    "scrolled": false
   },
   "outputs": [
    {
     "name": "stdout",
     "output_type": "stream",
     "text": [
      "Hi! My name is Stephanie .\n",
      "My favorite number is 8 .\n",
      "My favorite subject is history and my favorite topic is colonialism and independence in Latin America .\n"
     ]
    }
   ],
   "source": [
    "# use a print statement to display your name\n",
    "name = \"Stephanie\"\n",
    "print(\"Hi! My name is\", name, \".\")\n",
    "\n",
    "# use a print statement to display your favorite number\n",
    "number = 8\n",
    "print(\"My favorite number is\", number, \".\")\n",
    "\n",
    "# use a print statement to display your favorite subject/topic\n",
    "subject = \"history\"\n",
    "topic = \"colonialism and independence in Latin America\"\n",
    "print(\"My favorite subject is\", subject, \"and my favorite topic is\", topic, \".\")\n"
   ]
  },
  {
   "cell_type": "markdown",
   "metadata": {},
   "source": [
    "### Exercise 2\n",
    "Copy your answer cell from question 1 and paste it below. Then modify the cell: \n",
    "- comment out the code to display your favorite number \n",
    "- add a code to display your favorite place \n",
    "- create in-line comments why the place is your favorite"
   ]
  },
  {
   "cell_type": "code",
   "execution_count": 29,
   "metadata": {},
   "outputs": [
    {
     "name": "stdout",
     "output_type": "stream",
     "text": [
      "Hi! My name is Stephanie .\n",
      "My favorite number is 8 .\n",
      "My favorite subject is history and my favorite topic is colonialism and independence in Latin America .\n",
      "My favorite place is Harpers Ferry .\n"
     ]
    }
   ],
   "source": [
    "place = 'Harpers Ferry'\n",
    "print(\"Hi! My name is\", name, \".\")\n",
    "print(\"My favorite number is\", number, \".\")\n",
    "print(\"My favorite subject is\", subject, \"and my favorite topic is\", topic, \".\")\n",
    "place = 'Harpers Ferry'\n",
    "print(\"My favorite place is\", place,\".\")\n",
    "# Harpers Ferry is my favorite place because it has challenging trails and great views!"
   ]
  },
  {
   "cell_type": "markdown",
   "metadata": {},
   "source": [
    "### Exercise 3\n",
    "Follow the instruction on each comment line."
   ]
  },
  {
   "cell_type": "code",
   "execution_count": 5,
   "metadata": {},
   "outputs": [],
   "source": [
    "# Create a variable named age to hold the result of some arithmetic expression. Use operators.\n",
    "age = 4 * 2"
   ]
  },
  {
   "cell_type": "code",
   "execution_count": 6,
   "metadata": {},
   "outputs": [],
   "source": [
    "# Create a variable to hold a Boolean value. Valid Booleans.\n",
    "boolean = 'true'"
   ]
  },
  {
   "cell_type": "code",
   "execution_count": 7,
   "metadata": {},
   "outputs": [],
   "source": [
    "# Create a variable to hold a pet's name\n",
    "pet_name = 'Bailey'"
   ]
  },
  {
   "cell_type": "code",
   "execution_count": 8,
   "metadata": {},
   "outputs": [
    {
     "name": "stdout",
     "output_type": "stream",
     "text": [
      "My pet's name is Bailey and it is true that Bailey is 8 years old.\n"
     ]
    }
   ],
   "source": [
    "# Use one print statement to show\n",
    "# \"My pet's name is <pet>, and it is <boolean> that <pet> is <age> years old.\" \n",
    "# - you need to substitute <pet>, <boolean>, and <age> accordingly\n",
    "#use curly braces\n",
    "\n",
    "print(\"My pet's name is\", pet_name, \"and it is\", boolean, \"that\", pet_name, \"is\", age, \"years old.\" )\n"
   ]
  },
  {
   "cell_type": "markdown",
   "metadata": {},
   "source": [
    "### Exercise  4 \n",
    "Follow the instruction on each comment line. Then, use in-line comments to identify the number type of each result.\n"
   ]
  },
  {
   "cell_type": "code",
   "execution_count": 27,
   "metadata": {},
   "outputs": [
    {
     "name": "stdout",
     "output_type": "stream",
     "text": [
      "The result of 20/3 is 6.67\n",
      "The result to the nearest whole number is 6\n",
      "The result of 30 times 4.5 is 135.0\n"
     ]
    }
   ],
   "source": [
    "# Print out the result of 20/3. Look out for format (decimals)\n",
    "result = 20 / 3\n",
    "print(f\"The result of 20/3 is {result:.2f}\")\n",
    "# number with 2 decimals\n",
    "\n",
    "# Print out the result of 20/3 to the nearest whole number using string format\n",
    "result_w_n = 20 // 3\n",
    "print(\"The result to the nearest whole number is\", result_w_n)\n",
    "# whole number\n",
    "\n",
    "# Print out the result of 30 * 4.5\n",
    "result2 = 30 * 4.5\n",
    "print(\"The result of 30 times 4.5 is\", result2)\n",
    "# number with 1 decimal\n",
    "         "
   ]
  },
  {
   "cell_type": "markdown",
   "metadata": {},
   "source": [
    "### Exercise 5\n",
    "Debug below code"
   ]
  },
  {
   "cell_type": "code",
   "execution_count": 7,
   "metadata": {},
   "outputs": [
    {
     "ename": "SyntaxError",
     "evalue": "unterminated string literal (detected at line 9) (2776313181.py, line 9)",
     "output_type": "error",
     "traceback": [
      "\u001b[1;36m  Cell \u001b[1;32mIn[7], line 9\u001b[1;36m\u001b[0m\n\u001b[1;33m    print('I'm only as smart as', noun, \"because I'm reading.\")\u001b[0m\n\u001b[1;37m                                                             ^\u001b[0m\n\u001b[1;31mSyntaxError\u001b[0m\u001b[1;31m:\u001b[0m unterminated string literal (detected at line 9)\n"
     ]
    }
   ],
   "source": [
    "hello = \"Hello World\"\n",
    "noun = \"David\"\n",
    "numberof_friends = \"2\"\n",
    "name_of_friend = \"Carly\"\n",
    "location = la MC\n",
    "time = \"5:30 pm\"\n",
    "\n",
    "print(Hello)\n",
    "print('I'm only as smart as', noun, \"because I'm reading.\")\n",
    "print(\"There are only\", number_of_friends, \"friends available to eat with you today\")\n",
    "print(\"Why don't we call\", name_of_friend, \"today?\")\n",
    "print(\"If\", name_of_friend, \"brings a friend then we need a table for\", name_of_friend*2)\n",
    "print(\"We need to arrive at\", location, \"at what time?\")\n",
    "print(\"We have to be there at\", time, \"or else O'Brien will say \"I told you so.\")"
   ]
  },
  {
   "cell_type": "code",
   "execution_count": 52,
   "metadata": {},
   "outputs": [
    {
     "name": "stdout",
     "output_type": "stream",
     "text": [
      "Hello World\n",
      "I'm only as smart as David because I'm reading.\n",
      "There are only 2 friends available to eat with you today.\n",
      "Why don't we call Carly today?\n",
      "If Carly brings a friend then we need a table for 4 .\n",
      "We need to arrive at la MC at what time?\n",
      "We have to be there at 5:30 pm or else O'Brien will say 'I told you so'.\n"
     ]
    }
   ],
   "source": [
    "# Corrected code\n",
    "\n",
    "hello = \"Hello World\"\n",
    "noun = \"David\"\n",
    "number_of_friends = 2\n",
    "name_of_friend = \"Carly\"\n",
    "location = \"la MC\"\n",
    "time = \"5:30 pm\"\n",
    "\n",
    "print(hello)\n",
    "print(\"I'm only as smart as\", noun, \"because I'm reading.\")\n",
    "print(\"There are only\", number_of_friends, \"friends available to eat with you today.\")\n",
    "print(\"Why don't we call\", name_of_friend, \"today?\")\n",
    "print(\"If\", name_of_friend, \"brings a friend then we need a table for\", number_of_friends*2,\".\")\n",
    "print(\"We need to arrive at\", location, \"at what time?\")\n",
    "print(\"We have to be there at\", time, \"or else O'Brien will say 'I told you so'.\")"
   ]
  },
  {
   "cell_type": "markdown",
   "metadata": {},
   "source": [
    "### Exercise  6 \n",
    "Take the fixed code from above and use the formatted strings to produce the same result."
   ]
  },
  {
   "cell_type": "code",
   "execution_count": null,
   "metadata": {},
   "outputs": [],
   "source": [
    "print(hello)\n",
    "print(\"I'm only as smart as\", noun, \"because I'm reading.\")\n",
    "print(\"There are only\", number_of_friends, \"friends available to eat with you today.\")\n",
    "print(\"Why don't we call\", name_of_friend, \"today?\")\n",
    "print(\"If\", name_of_friend, \"brings a friend then we need a table for\", name_of_friend*2,\".\")\n",
    "print(\"We need to arrive at\", location, \"at what time?\")\n",
    "print(\"We have to be there at\", time, \"or else O'Brien will say 'I told you so'.\")"
   ]
  },
  {
   "cell_type": "markdown",
   "metadata": {},
   "source": [
    "### Exercise 7\n",
    "Follow instructions in the comment lines."
   ]
  },
  {
   "cell_type": "code",
   "execution_count": 35,
   "metadata": {},
   "outputs": [
    {
     "name": "stdout",
     "output_type": "stream",
     "text": [
      "Typos are natural. They are not a moral failing.\n"
     ]
    }
   ],
   "source": [
    "# Concatenate two sentences together and print them on one line.\n",
    "sen1 = \"Typos are natural. \"\n",
    "sen2 = \"They are not a moral failing.\"\n",
    "print(sen1 + sen2)\n",
    "\n"
   ]
  },
  {
   "cell_type": "code",
   "execution_count": 48,
   "metadata": {},
   "outputs": [
    {
     "name": "stdout",
     "output_type": "stream",
     "text": [
      "Print all of these lines for me 7 times please. Print all of these lines for me 7 times please. Print all of these lines for me 7 times please. Print all of these lines for me 7 times please. Print all of these lines for me 7 times please. Print all of these lines for me 7 times please. Print all of these lines for me 7 times please. \n"
     ]
    }
   ],
   "source": [
    "# Print out \"print all of these lines for me 7 times please\"  \n",
    "# 7 times using one print statement. Use repetition.\n",
    "print(\"Print all of these lines for me 7 times please. \" * 7)\n"
   ]
  },
  {
   "cell_type": "code",
   "execution_count": 44,
   "metadata": {},
   "outputs": [
    {
     "name": "stdout",
     "output_type": "stream",
     "text": [
      "'I 'love' single quotes.'\n"
     ]
    }
   ],
   "source": [
    "# Print out a statement with a single quote inside the  \n",
    "# double quote saying I 'love' single quotes.\n",
    "print(\"'I \\'love\\' single quotes.'\")\n"
   ]
  },
  {
   "cell_type": "code",
   "execution_count": 45,
   "metadata": {},
   "outputs": [
    {
     "name": "stdout",
     "output_type": "stream",
     "text": [
      "\"I \"love\" double quotes.\"\n"
     ]
    }
   ],
   "source": [
    "# Print out a statement with a double quote inside the \n",
    "# double quote saying I \"love\" double quotes.\n",
    "print(\"\\\"I \\\"love\\\" double quotes.\\\"\")\n"
   ]
  },
  {
   "cell_type": "code",
   "execution_count": 47,
   "metadata": {},
   "outputs": [
    {
     "name": "stdout",
     "output_type": "stream",
     "text": [
      "We are free. \n",
      "We are almost free.\n"
     ]
    }
   ],
   "source": [
    "# Use one print function to print this statement on two lines: \n",
    "# \"We are free. We are almost free.\"\n",
    "print('We are free. \\nWe are almost free.')\n"
   ]
  },
  {
   "cell_type": "markdown",
   "metadata": {},
   "source": [
    "### Exercise 8\n",
    "Use one print statement to print out \"apple pie\", using following variables"
   ]
  },
  {
   "cell_type": "code",
   "execution_count": 53,
   "metadata": {},
   "outputs": [],
   "source": [
    "# concatenate\n",
    "ch1='a'\n",
    "ch2='e'\n",
    "ch3='i'\n",
    "ch4='o'\n",
    "ch5='u'\n",
    "ch6='l'\n",
    "ch7='p'"
   ]
  },
  {
   "cell_type": "code",
   "execution_count": 56,
   "metadata": {},
   "outputs": [
    {
     "name": "stdout",
     "output_type": "stream",
     "text": [
      "apple pie\n"
     ]
    }
   ],
   "source": [
    "print(ch1+ch7+ch7+ch6+ch2,ch7+ch3+ch2)"
   ]
  }
 ],
 "metadata": {
  "kernelspec": {
   "display_name": "Python 3 (ipykernel)",
   "language": "python",
   "name": "python3"
  },
  "language_info": {
   "codemirror_mode": {
    "name": "ipython",
    "version": 3
   },
   "file_extension": ".py",
   "mimetype": "text/x-python",
   "name": "python",
   "nbconvert_exporter": "python",
   "pygments_lexer": "ipython3",
   "version": "3.11.5"
  }
 },
 "nbformat": 4,
 "nbformat_minor": 2
}
